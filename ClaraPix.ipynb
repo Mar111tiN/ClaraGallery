{
 "cells": [
  {
   "cell_type": "code",
   "execution_count": 1,
   "metadata": {
    "ExecuteTime": {
     "end_time": "2019-07-16T13:14:59.631462Z",
     "start_time": "2019-07-16T13:14:59.502330Z"
    }
   },
   "outputs": [],
   "source": [
    "import pandas\n",
    "import os\n",
    "import sys\n",
    "import re\n",
    "import sqlalchemy"
   ]
  },
  {
   "cell_type": "markdown",
   "metadata": {},
   "source": [
    "### import the picture table"
   ]
  },
  {
   "cell_type": "code",
   "execution_count": 2,
   "metadata": {
    "ExecuteTime": {
     "end_time": "2019-07-16T13:15:00.775829Z",
     "start_time": "2019-07-16T13:15:00.708258Z"
    }
   },
   "outputs": [
    {
     "data": {
      "text/plain": [
       "img #                   1\n",
       "Wer                 Clara\n",
       "Hilfe von             NaN\n",
       "Title              Muster\n",
       "Key                 Kunst\n",
       "Datum              Aug 18\n",
       "Datum unbekannt       NaN\n",
       "Note                  NaN\n",
       "Set                   NaN\n",
       "Name: 0, dtype: object"
      ]
     },
     "execution_count": 2,
     "metadata": {},
     "output_type": "execute_result"
    }
   ],
   "source": [
    "# get the path to the excel file\n",
    "xls_path = os.path.join(os.environ['HOME'], 'Dropbox/Icke/Bilder/ClaraPix/ClaraPics.xlsx')\n",
    "pic_table = pandas.read_excel(xls_path, dtype={'Datum':str})\n",
    "pic_table['Key'] = pic_table['Key'].str.replace(r' ?, ', ',').str.replace(' ',',').str.replace(',&,',' & ').str.replace('Magische,Tiere', 'Magische Tiere')\n",
    "pic_table.iloc[0]"
   ]
  },
  {
   "cell_type": "markdown",
   "metadata": {},
   "source": [
    "# create the engine for connection to the db"
   ]
  },
  {
   "cell_type": "code",
   "execution_count": 15,
   "metadata": {
    "ExecuteTime": {
     "end_time": "2019-07-16T13:34:23.483189Z",
     "start_time": "2019-07-16T13:34:23.456076Z"
    }
   },
   "outputs": [
    {
     "name": "stdout",
     "output_type": "stream",
     "text": [
      "2019-07-16 15:34:23,470 INFO sqlalchemy.engine.base.Engine select version()\n",
      "2019-07-16 15:34:23,471 INFO sqlalchemy.engine.base.Engine {}\n",
      "2019-07-16 15:34:23,472 INFO sqlalchemy.engine.base.Engine select current_schema()\n",
      "2019-07-16 15:34:23,473 INFO sqlalchemy.engine.base.Engine {}\n",
      "2019-07-16 15:34:23,474 INFO sqlalchemy.engine.base.Engine SELECT CAST('test plain returns' AS VARCHAR(60)) AS anon_1\n",
      "2019-07-16 15:34:23,475 INFO sqlalchemy.engine.base.Engine {}\n",
      "2019-07-16 15:34:23,476 INFO sqlalchemy.engine.base.Engine SELECT CAST('test unicode returns' AS VARCHAR(60)) AS anon_1\n",
      "2019-07-16 15:34:23,477 INFO sqlalchemy.engine.base.Engine {}\n",
      "2019-07-16 15:34:23,478 INFO sqlalchemy.engine.base.Engine show standard_conforming_strings\n",
      "2019-07-16 15:34:23,479 INFO sqlalchemy.engine.base.Engine {}\n"
     ]
    },
    {
     "data": {
      "text/plain": [
       "<sqlalchemy.engine.base.Connection at 0x119a37ba8>"
      ]
     },
     "execution_count": 15,
     "metadata": {},
     "output_type": "execute_result"
    }
   ],
   "source": [
    "from sqlalchemy import Column, ForeignKey, Integer, String, Date, Boolean, Table\n",
    "from sqlalchemy.ext.declarative import declarative_base\n",
    "from sqlalchemy.orm import relationship\n",
    "from sqlalchemy import create_engine\n",
    "\n",
    "Base = declarative_base()\n",
    "engine = create_engine('postgresql://mahtin@localhost:5432/claragallery', echo=True)\n",
    "engine.connect()"
   ]
  },
  {
   "cell_type": "markdown",
   "metadata": {},
   "source": [
    "## define tables and create them in PostgreSQL"
   ]
  },
  {
   "cell_type": "code",
   "execution_count": 16,
   "metadata": {
    "ExecuteTime": {
     "end_time": "2019-07-16T13:34:28.997092Z",
     "start_time": "2019-07-16T13:34:28.944387Z"
    }
   },
   "outputs": [
    {
     "name": "stdout",
     "output_type": "stream",
     "text": [
      "2019-07-16 15:34:28,979 INFO sqlalchemy.engine.base.Engine select relname from pg_class c join pg_namespace n on n.oid=c.relnamespace where pg_catalog.pg_table_is_visible(c.oid) and relname=%(name)s\n",
      "2019-07-16 15:34:28,980 INFO sqlalchemy.engine.base.Engine {'name': 'association'}\n",
      "2019-07-16 15:34:28,983 INFO sqlalchemy.engine.base.Engine select relname from pg_class c join pg_namespace n on n.oid=c.relnamespace where pg_catalog.pg_table_is_visible(c.oid) and relname=%(name)s\n",
      "2019-07-16 15:34:28,984 INFO sqlalchemy.engine.base.Engine {'name': 'images'}\n",
      "2019-07-16 15:34:28,986 INFO sqlalchemy.engine.base.Engine select relname from pg_class c join pg_namespace n on n.oid=c.relnamespace where pg_catalog.pg_table_is_visible(c.oid) and relname=%(name)s\n",
      "2019-07-16 15:34:28,987 INFO sqlalchemy.engine.base.Engine {'name': 'collections'}\n",
      "2019-07-16 15:34:28,989 INFO sqlalchemy.engine.base.Engine select relname from pg_class c join pg_namespace n on n.oid=c.relnamespace where pg_catalog.pg_table_is_visible(c.oid) and relname=%(name)s\n",
      "2019-07-16 15:34:28,990 INFO sqlalchemy.engine.base.Engine {'name': 'users'}\n",
      "2019-07-16 15:34:28,992 INFO sqlalchemy.engine.base.Engine select relname from pg_class c join pg_namespace n on n.oid=c.relnamespace where pg_catalog.pg_table_is_visible(c.oid) and relname=%(name)s\n",
      "2019-07-16 15:34:28,992 INFO sqlalchemy.engine.base.Engine {'name': 'keywords'}\n"
     ]
    }
   ],
   "source": [
    "import os\n",
    "# absolute path to the picture database\n",
    "pic_db_path = os.path.join(os.environ['HOME'], 'Dropbox/Icke/Bilder')\n",
    "# folder in db\n",
    "picture_folder = 'ClaraPix'\n",
    "    \n",
    "image_keywords_association = Table('association', Base.metadata, \n",
    "                                   Column('img_id', Integer, ForeignKey('images.id')),\n",
    "                                   Column('key_id', Integer, ForeignKey('keywords.id')))\n",
    "\n",
    "\n",
    "class Image(Base):\n",
    "    __tablename__ = 'images'\n",
    "    id = Column(Integer, primary_key=True)\n",
    "    title = Column(String(90))\n",
    "    path = Column(String(80), nullable=False)\n",
    "    date = Column(Date(), nullable=False)\n",
    "    date_assumed = Column(Boolean(), nullable=True)\n",
    "    note = Column(String(120))\n",
    "    helper = Column(String(80))\n",
    "    stars = Column(Integer())\n",
    "    \n",
    "    col_id = Column(Integer, ForeignKey('collections.id'))\n",
    "    collection = relationship(\"Collection\", back_populates='images')\n",
    "    \n",
    "    user_id = Column(Integer, ForeignKey('users.id'))\n",
    "    artist = relationship('User', back_populates='images')\n",
    "    \n",
    "    key_id = Column(Integer, ForeignKey('keywords.id'))\n",
    "    # here, backref is used to create an images field in the Keyword table\n",
    "    keywords = relationship('Keyword', secondary=image_keywords_association, backref='images')\n",
    "    \n",
    "    \n",
    "    def __repr__(self):\n",
    "        return f'<Image(\"{self.title}\" by {self.artist.name}, ~/{self.path})>'\n",
    "\n",
    "    \n",
    "class Collection(Base):\n",
    "    __tablename__ = 'collections'\n",
    "    id = Column(Integer, primary_key=True)\n",
    "    name = Column(String(80), nullable=False)\n",
    "    images = relationship('Image', back_populates='collection')\n",
    "\n",
    "    def __repr__(self):\n",
    "        return f\"<Collection(name:{self.name}, images:{len(self.images)})>\"\n",
    "\n",
    "class User(Base):\n",
    "    __tablename__ = 'users'\n",
    "    id = Column(Integer, primary_key=True)\n",
    "    name = Column(String(80), nullable=False)\n",
    "    types = Column(String(50))\n",
    "    age = Column(Integer)\n",
    "    images = relationship('Image', back_populates='artist')\n",
    "    \n",
    "    def __repr__(self):\n",
    "        return f\"<User(name:{self.name}, age:{self.age}, images:{len(self.images)})>\"\n",
    "    \n",
    "    \n",
    "class Keyword(Base):\n",
    "    __tablename__ = 'keywords'\n",
    "    id = Column(Integer, primary_key=True)\n",
    "    name = Column(String(50), nullable=False)\n",
    "    \n",
    "    def __repr__(self):\n",
    "        return f\"<Keyword(name={self.name}, images:{len(self.images)})>\"\n",
    "\n",
    "    \n",
    "Base.metadata.create_all(engine)"
   ]
  },
  {
   "cell_type": "markdown",
   "metadata": {},
   "source": [
    "### import table data to the database in a session"
   ]
  },
  {
   "cell_type": "code",
   "execution_count": 17,
   "metadata": {
    "ExecuteTime": {
     "end_time": "2019-07-16T13:34:35.256620Z",
     "start_time": "2019-07-16T13:34:35.253145Z"
    }
   },
   "outputs": [],
   "source": [
    "from sqlalchemy.orm import sessionmaker\n",
    "Base.metadata.bind = engine\n",
    "DBSession = sessionmaker(bind=engine)\n",
    "session = DBSession()"
   ]
  },
  {
   "cell_type": "code",
   "execution_count": 6,
   "metadata": {
    "ExecuteTime": {
     "end_time": "2019-07-16T13:15:17.534054Z",
     "start_time": "2019-07-16T13:15:17.514414Z"
    }
   },
   "outputs": [],
   "source": [
    "from datetime import date as dt\n",
    "title_pat = re.compile(r'^\\w')\n",
    "\n",
    "months = ['jan', 'feb', 'mär', 'apr', 'mai', 'jun', 'jul', 'aug', 'sep', 'okt', 'nov', 'dez']\n",
    "month_dict = {month[1]:month[0] + 1 for month in enumerate(months)}\n",
    "\n",
    "def str2date(string):\n",
    "    if pd.isnull(string) or string == '?':\n",
    "        return dt(2018, 1,1)\n",
    "    if '.' in string:\n",
    "        data = [int(num) for num in string.split('.')]\n",
    "        return dt(data[2], data[1], data[0])\n",
    "        \n",
    "    date = string.split(' ')\n",
    "    year = int(date[-1])\n",
    "    year = 2000 + year if (year < 2000) else year\n",
    "    month = date[0][:3].lower() if (len(date) - 1) else 'jan'\n",
    "    month = month_dict[month] if month in month_dict.keys() else 1\n",
    "    return dt(year, month, 1)\n",
    "\n",
    "def add2db(row):\n",
    "    '''\n",
    "    adds rows from the df to the database\n",
    "    '''\n",
    "    \n",
    "    # file and file check\n",
    "    file = f\"Clara{str(row['img # ']).zfill(4)}.jpg\"\n",
    "    # file path relative to database location\n",
    "    path = os.path.join(picture_folder, file)\n",
    "    abs_file = os.path.join(pic_db_path, path)\n",
    "    if not os.path.isfile(abs_file):\n",
    "        return f'File {path} does not exist'\n",
    "    title = row['Title'] if row['Title'] == row['Title'] else 'ohne Titel'\n",
    "    if not title_pat.match(title):\n",
    "        title = 'ohne Titel'\n",
    "        \n",
    "\n",
    "    name = row['Wer'] if pd.notnull(row['Wer']) else 'Clara'\n",
    "    stars = 0\n",
    "    \n",
    "    # if user exists, use this user\n",
    "    artist = session.query(User).filter_by(name = name).first()\n",
    "    # else create new user/artist\n",
    "    if not artist:\n",
    "        artist = User(name=name, age=6)\n",
    "    \n",
    "    # check if image already exists in db\n",
    "    image = session.query(Image).filter_by(title=title).filter_by(path=path).first()\n",
    "    if image:\n",
    "        return f'Image {image.title} exists!'\n",
    "    # create image instance\n",
    "    image = Image(title=title, path=path, artist=artist, note=row['Note'], date=str2date(row['Datum']))\n",
    "\n",
    "    if pd.notnull(row['Set']):\n",
    "        collection = session.query(Collection).filter_by(name = row['Set']).first()\n",
    "        if not collection:\n",
    "            collection = Collection(name=row['Set'])\n",
    "        image.collection = collection\n",
    "        \n",
    "    def get_key(key):\n",
    "        keyword = session.query(Keyword).filter_by(name = key.strip()).first()\n",
    "        keyword = keyword if keyword else Keyword(name=key.strip())\n",
    "        return keyword\n",
    "    \n",
    "    if pd.notnull(row['Key']):\n",
    "        image.keywords = [get_key(key) for key in row['Key'].split(',')]\n",
    "    if pd.notnull(row['Hilfe von']):\n",
    "        image.helper = row['Hilfe von']\n",
    "    date_assumed = row['Datum unbekannt'] in ['x',''] or (row['Datum'] in ['', '?'])\n",
    "    image.date_assumed = date_assumed\n",
    "    session.add(image)\n",
    "    return repr(image)"
   ]
  },
  {
   "cell_type": "code",
   "execution_count": 7,
   "metadata": {
    "ExecuteTime": {
     "end_time": "2019-07-16T13:15:21.404917Z",
     "start_time": "2019-07-16T13:15:19.169409Z"
    }
   },
   "outputs": [
    {
     "data": {
      "text/plain": [
       "0      <Image(\"Muster\" by Clara, ~/ClaraPix/Clara0001...\n",
       "1      <Image(\"Haus\" by Clara, ~/ClaraPix/Clara0002.j...\n",
       "2      <Image(\"Muster\" by Clara, ~/ClaraPix/Clara0003...\n",
       "3      <Image(\"Pythor\" by Clara, ~/ClaraPix/Clara0004...\n",
       "4      <Image(\"Herzmuster\" by Clara, ~/ClaraPix/Clara...\n",
       "5      <Image(\"Skizze Tänzerin\" by Clara, ~/ClaraPix/...\n",
       "6      <Image(\"Clara an der Straße\" by Clara, ~/Clara...\n",
       "7      <Image(\"Muster\" by Clara, ~/ClaraPix/Clara0008...\n",
       "8      <Image(\"Ninjago Truppe\" by Clara, ~/ClaraPix/C...\n",
       "9      <Image(\"Schlangenmuster\" by Clara, ~/ClaraPix/...\n",
       "10     <Image(\"Clara und Papa | Landschaft\" by Clara,...\n",
       "11     <Image(\"Predator X wartet auf Plesiosaurier | ...\n",
       "12     <Image(\"Clara im Auto\" by Clara, ~/ClaraPix/Cl...\n",
       "13     <Image(\"Grün\" by Clara, ~/ClaraPix/Clara0014.j...\n",
       "14     <Image(\"Fröhlicher Schmetterling\" by Clara, ~/...\n",
       "15     <Image(\"Clara unter dem Regenbogen\" by Clara, ...\n",
       "16     <Image(\"Durchschlafen für Anna + Elsa\" by Clar...\n",
       "17     <Image(\"shift\" by Clara, ~/ClaraPix/Clara0018....\n",
       "18     <Image(\"Planeten\" by Clara, ~/ClaraPix/Clara00...\n",
       "19     <Image(\"Einhörner am Ende des Regenbogens\" by ...\n",
       "20     <Image(\"Clara\" by Clara, ~/ClaraPix/Clara0021....\n",
       "21     <Image(\"Rapunzel feiert\" by Clara, ~/ClaraPix/...\n",
       "22     <Image(\"Der Goldene Schlüssel\" by Clara, ~/Cla...\n",
       "23     <Image(\"Dinge für \" by Clara, ~/ClaraPix/Clara...\n",
       "24     <Image(\"Prinzessin auf Blumenwiese\" by Clara, ...\n",
       "                             ...                        \n",
       "414    <Image(\"Schlangen-Vogel\" by Clara, ~/ClaraPix/...\n",
       "415    <Image(\"Dressur-Reiten\" by Clara, ~/ClaraPix/C...\n",
       "416    <Image(\"König der Vögel\" by Clara, ~/ClaraPix/...\n",
       "417    <Image(\"Clara reitet einen T-Rex\" by Clara, ~/...\n",
       "418    <Image(\"Wunschzettel 2018\" by Clara, ~/ClaraPi...\n",
       "419    <Image(\"Dinotrux1\" by Clara, ~/ClaraPix/Clara0...\n",
       "420    <Image(\"Lana\" by Clara, ~/ClaraPix/Clara0427.j...\n",
       "421    <Image(\"Einhorn und Pteranodon\" by Clara, ~/Cl...\n",
       "422    <Image(\"Clara reitet einen Besen\" by Clara, ~/...\n",
       "423           File ClaraPix/Clara0430.jpg does not exist\n",
       "424           File ClaraPix/Clara0431.jpg does not exist\n",
       "425           File ClaraPix/Clara0432.jpg does not exist\n",
       "426           File ClaraPix/Clara0433.jpg does not exist\n",
       "427           File ClaraPix/Clara0434.jpg does not exist\n",
       "428           File ClaraPix/Clara0435.jpg does not exist\n",
       "429           File ClaraPix/Clara0436.jpg does not exist\n",
       "430           File ClaraPix/Clara0437.jpg does not exist\n",
       "431           File ClaraPix/Clara0438.jpg does not exist\n",
       "432           File ClaraPix/Clara0439.jpg does not exist\n",
       "433           File ClaraPix/Clara0440.jpg does not exist\n",
       "434           File ClaraPix/Clara0441.jpg does not exist\n",
       "435           File ClaraPix/Clara0442.jpg does not exist\n",
       "436           File ClaraPix/Clara0443.jpg does not exist\n",
       "437           File ClaraPix/Clara0444.jpg does not exist\n",
       "438           File ClaraPix/Clara0445.jpg does not exist\n",
       "Length: 439, dtype: object"
      ]
     },
     "execution_count": 7,
     "metadata": {},
     "output_type": "execute_result"
    }
   ],
   "source": [
    "session.rollback()\n",
    "pic_table.apply(add2db, axis=1)\n",
    "session.commit()"
   ]
  },
  {
   "cell_type": "code",
   "execution_count": 23,
   "metadata": {
    "ExecuteTime": {
     "end_time": "2019-07-16T13:47:14.183701Z",
     "start_time": "2019-07-16T13:47:14.177105Z"
    }
   },
   "outputs": [
    {
     "name": "stdout",
     "output_type": "stream",
     "text": [
      "2019-07-16 15:47:14,179 INFO sqlalchemy.engine.base.Engine SELECT images.id AS images_id, images.title AS images_title, images.path AS images_path, images.date AS images_date, images.date_assumed AS images_date_assumed, images.note AS images_note, images.helper AS images_helper, images.stars AS images_stars, images.col_id AS images_col_id, images.user_id AS images_user_id, images.key_id AS images_key_id \n",
      "FROM images \n",
      "WHERE images.id = %(id_1)s \n",
      " LIMIT %(param_1)s\n",
      "2019-07-16 15:47:14,180 INFO sqlalchemy.engine.base.Engine {'id_1': 330, 'param_1': 1}\n"
     ]
    }
   ],
   "source": [
    "img1 = session.query(Image).filter_by(id = 330).first()"
   ]
  },
  {
   "cell_type": "markdown",
   "metadata": {},
   "source": [
    "### filter by keyword"
   ]
  },
  {
   "cell_type": "code",
   "execution_count": 24,
   "metadata": {
    "ExecuteTime": {
     "end_time": "2019-07-16T13:47:21.393626Z",
     "start_time": "2019-07-16T13:47:21.386918Z"
    }
   },
   "outputs": [
    {
     "name": "stdout",
     "output_type": "stream",
     "text": [
      "2019-07-16 15:47:21,388 INFO sqlalchemy.engine.base.Engine SELECT keywords.id AS keywords_id, keywords.name AS keywords_name \n",
      "FROM keywords, association \n",
      "WHERE %(param_1)s = association.img_id AND keywords.id = association.key_id\n",
      "2019-07-16 15:47:21,389 INFO sqlalchemy.engine.base.Engine {'param_1': 330}\n"
     ]
    },
    {
     "data": {
      "text/plain": [
       "['Monster']"
      ]
     },
     "execution_count": 24,
     "metadata": {},
     "output_type": "execute_result"
    }
   ],
   "source": [
    "[key.name for key in img1.keywords]"
   ]
  },
  {
   "cell_type": "code",
   "execution_count": 14,
   "metadata": {
    "ExecuteTime": {
     "end_time": "2019-07-16T13:18:39.393856Z",
     "start_time": "2019-07-16T13:18:39.384964Z"
    }
   },
   "outputs": [
    {
     "ename": "AttributeError",
     "evalue": "'Query' object has no attribute 'find_by'",
     "output_type": "error",
     "traceback": [
      "\u001b[0;31m---------------------------------------------------------------------------\u001b[0m",
      "\u001b[0;31mAttributeError\u001b[0m                            Traceback (most recent call last)",
      "\u001b[0;32m<ipython-input-14-0aa4bbc875dd>\u001b[0m in \u001b[0;36m<module>\u001b[0;34m\u001b[0m\n\u001b[0;32m----> 1\u001b[0;31m \u001b[0mkeyword\u001b[0m \u001b[0;34m=\u001b[0m \u001b[0msession\u001b[0m\u001b[0;34m.\u001b[0m\u001b[0mquery\u001b[0m\u001b[0;34m(\u001b[0m\u001b[0mKeyword\u001b[0m\u001b[0;34m)\u001b[0m\u001b[0;34m.\u001b[0m\u001b[0mfind_by\u001b[0m\u001b[0;34m(\u001b[0m\u001b[0mname\u001b[0m\u001b[0;34m=\u001b[0m\u001b[0;34m'Kunst'\u001b[0m\u001b[0;34m)\u001b[0m\u001b[0;34m.\u001b[0m\u001b[0mfirst\u001b[0m\u001b[0;34m(\u001b[0m\u001b[0;34m)\u001b[0m\u001b[0;34m\u001b[0m\u001b[0;34m\u001b[0m\u001b[0m\n\u001b[0m\u001b[1;32m      2\u001b[0m \u001b[0;32mfor\u001b[0m \u001b[0mimage\u001b[0m \u001b[0;32min\u001b[0m \u001b[0mkeyword\u001b[0m\u001b[0;34m.\u001b[0m\u001b[0mimages\u001b[0m\u001b[0;34m:\u001b[0m\u001b[0;34m\u001b[0m\u001b[0;34m\u001b[0m\u001b[0m\n\u001b[1;32m      3\u001b[0m     \u001b[0mprint\u001b[0m\u001b[0;34m(\u001b[0m\u001b[0mimage\u001b[0m\u001b[0;34m.\u001b[0m\u001b[0mtitle\u001b[0m\u001b[0;34m,\u001b[0m \u001b[0;34m' : '\u001b[0m\u001b[0;34m,\u001b[0m \u001b[0mimage\u001b[0m\u001b[0;34m.\u001b[0m\u001b[0mkeywords\u001b[0m\u001b[0;34m)\u001b[0m\u001b[0;34m\u001b[0m\u001b[0;34m\u001b[0m\u001b[0m\n",
      "\u001b[0;31mAttributeError\u001b[0m: 'Query' object has no attribute 'find_by'"
     ]
    }
   ],
   "source": [
    "keyword = session.query(Keyword).find_by(name='Kunst').first()\n",
    "for image in keyword.images:\n",
    "    print(image.title, ' : ', image.keywords)"
   ]
  },
  {
   "cell_type": "code",
   "execution_count": 10,
   "metadata": {
    "ExecuteTime": {
     "end_time": "2019-07-16T13:15:35.121691Z",
     "start_time": "2019-07-16T13:15:35.110161Z"
    }
   },
   "outputs": [
    {
     "data": {
      "text/plain": [
       "{<Image(\"Ammonit\" by Clara, ~/ClaraPix/Clara0388.jpg)>,\n",
       " <Image(\"Ankylo-Stein-Dino\" by Clara, ~/ClaraPix/Clara0303.jpg)>,\n",
       " <Image(\"Archeopteryx\" by Clara, ~/ClaraPix/Clara0250.jpg)>,\n",
       " <Image(\"Argentinosaurier vor Vulkan\" by Clara, ~/ClaraPix/Clara0363.jpg)>,\n",
       " <Image(\"Baum-Dino\" by Clara, ~/ClaraPix/Clara0305.jpg)>,\n",
       " <Image(\"Blitzdino\" by Clara, ~/ClaraPix/Clara0301.jpg)>,\n",
       " <Image(\"Bunter Dino\" by Clara, ~/ClaraPix/Clara0304.jpg)>,\n",
       " <Image(\"Clara reitet auf Pteranodon\" by Clara, ~/ClaraPix/Clara0400.jpg)>,\n",
       " <Image(\"Clara reitet einen T-Rex\" by Clara, ~/ClaraPix/Clara0424.jpg)>,\n",
       " <Image(\"Diamant-Dino\" by Clara, ~/ClaraPix/Clara0302.jpg)>,\n",
       " <Image(\"Dino mit Kamm\" by Clara, ~/ClaraPix/Clara0298.jpg)>,\n",
       " <Image(\"Einhorn und Pteranodon\" by Clara, ~/ClaraPix/Clara0428.jpg)>,\n",
       " <Image(\"König der Dinos\" by Clara, ~/ClaraPix/Clara0355.jpg)>,\n",
       " <Image(\"Pia auf Pteranodon\" by Clara, ~/ClaraPix/Clara0404.jpg)>,\n",
       " <Image(\"Quetzalcoatlus\" by Clara, ~/ClaraPix/Clara0406.jpg)>,\n",
       " <Image(\"Seite 47 - T-Rex unter Palmen\" by Clara, ~/ClaraPix/Clara0238.jpg)>,\n",
       " <Image(\"Spinosaurier\" by Clara, ~/ClaraPix/Clara0245.jpg)>,\n",
       " <Image(\"Stachel-Dino\" by Clara, ~/ClaraPix/Clara0306.jpg)>,\n",
       " <Image(\"Stego im Winter\" by Clara, ~/ClaraPix/Clara0415.jpg)>,\n",
       " <Image(\"Steindino\" by Clara, ~/ClaraPix/Clara0299.jpg)>,\n",
       " <Image(\"T-Rex\" by Clara, ~/ClaraPix/Clara0375.jpg)>,\n",
       " <Image(\"Triceratops mit Wäscheleine\" by Clara, ~/ClaraPix/Clara0384.jpg)>,\n",
       " <Image(\"Triceratops\" by Clara, ~/ClaraPix/Clara0256.jpg)>,\n",
       " <Image(\"Triceratops\" by Clara, ~/ClaraPix/Clara0405.jpg)>,\n",
       " <Image(\"Wasserdino\" by Clara, ~/ClaraPix/Clara0300.jpg)>,\n",
       " <Image(\"grüner Theropode\" by Clara, ~/ClaraPix/Clara0314.jpg)>}"
      ]
     },
     "execution_count": 10,
     "metadata": {},
     "output_type": "execute_result"
    }
   ],
   "source": [
    "keyset = ['Urzeit', 'Dinos']\n",
    "image_set = set()\n",
    "for key in keyset:\n",
    "    keyword = session.query(Keyword).filter_by(name=key).first()\n",
    "    image_set.update(keyword.images)\n",
    "image_set"
   ]
  },
  {
   "cell_type": "code",
   "execution_count": 11,
   "metadata": {
    "ExecuteTime": {
     "end_time": "2019-07-16T13:15:40.880181Z",
     "start_time": "2019-07-16T13:15:40.754269Z"
    }
   },
   "outputs": [
    {
     "ename": "InvalidRequestError",
     "evalue": "Entity '<class '__main__.Image'>' has no property 'name'",
     "output_type": "error",
     "traceback": [
      "\u001b[0;31m---------------------------------------------------------------------------\u001b[0m",
      "\u001b[0;31mAttributeError\u001b[0m                            Traceback (most recent call last)",
      "\u001b[0;32m~/miniconda/envs/clara-env/lib/python3.7/site-packages/sqlalchemy/orm/base.py\u001b[0m in \u001b[0;36m_entity_descriptor\u001b[0;34m(entity, key)\u001b[0m\n\u001b[1;32m    398\u001b[0m     \u001b[0;32mtry\u001b[0m\u001b[0;34m:\u001b[0m\u001b[0;34m\u001b[0m\u001b[0;34m\u001b[0m\u001b[0m\n\u001b[0;32m--> 399\u001b[0;31m         \u001b[0;32mreturn\u001b[0m \u001b[0mgetattr\u001b[0m\u001b[0;34m(\u001b[0m\u001b[0mentity\u001b[0m\u001b[0;34m,\u001b[0m \u001b[0mkey\u001b[0m\u001b[0;34m)\u001b[0m\u001b[0;34m\u001b[0m\u001b[0;34m\u001b[0m\u001b[0m\n\u001b[0m\u001b[1;32m    400\u001b[0m     \u001b[0;32mexcept\u001b[0m \u001b[0mAttributeError\u001b[0m\u001b[0;34m:\u001b[0m\u001b[0;34m\u001b[0m\u001b[0;34m\u001b[0m\u001b[0m\n",
      "\u001b[0;31mAttributeError\u001b[0m: type object 'Image' has no attribute 'name'",
      "\nDuring handling of the above exception, another exception occurred:\n",
      "\u001b[0;31mInvalidRequestError\u001b[0m                       Traceback (most recent call last)",
      "\u001b[0;32m<ipython-input-11-2f5ce4ee2ed9>\u001b[0m in \u001b[0;36m<module>\u001b[0;34m\u001b[0m\n\u001b[0;32m----> 1\u001b[0;31m \u001b[0msession\u001b[0m\u001b[0;34m.\u001b[0m\u001b[0mquery\u001b[0m\u001b[0;34m(\u001b[0m\u001b[0mKeyword\u001b[0m\u001b[0;34m.\u001b[0m\u001b[0mimages\u001b[0m\u001b[0;34m)\u001b[0m\u001b[0;34m.\u001b[0m\u001b[0mjoin\u001b[0m\u001b[0;34m(\u001b[0m\u001b[0mImage\u001b[0m\u001b[0;34m)\u001b[0m\u001b[0;34m.\u001b[0m\u001b[0mfilter_by\u001b[0m\u001b[0;34m(\u001b[0m\u001b[0mname\u001b[0m \u001b[0;34m=\u001b[0m \u001b[0mkey\u001b[0m\u001b[0;34m)\u001b[0m\u001b[0;34m.\u001b[0m\u001b[0mall\u001b[0m\u001b[0;34m(\u001b[0m\u001b[0;34m)\u001b[0m\u001b[0;34m\u001b[0m\u001b[0;34m\u001b[0m\u001b[0m\n\u001b[0m",
      "\u001b[0;32m~/miniconda/envs/clara-env/lib/python3.7/site-packages/sqlalchemy/orm/query.py\u001b[0m in \u001b[0;36mfilter_by\u001b[0;34m(self, **kwargs)\u001b[0m\n\u001b[1;32m   1794\u001b[0m         clauses = [\n\u001b[1;32m   1795\u001b[0m             \u001b[0m_entity_descriptor\u001b[0m\u001b[0;34m(\u001b[0m\u001b[0mself\u001b[0m\u001b[0;34m.\u001b[0m\u001b[0m_joinpoint_zero\u001b[0m\u001b[0;34m(\u001b[0m\u001b[0;34m)\u001b[0m\u001b[0;34m,\u001b[0m \u001b[0mkey\u001b[0m\u001b[0;34m)\u001b[0m \u001b[0;34m==\u001b[0m \u001b[0mvalue\u001b[0m\u001b[0;34m\u001b[0m\u001b[0;34m\u001b[0m\u001b[0m\n\u001b[0;32m-> 1796\u001b[0;31m             \u001b[0;32mfor\u001b[0m \u001b[0mkey\u001b[0m\u001b[0;34m,\u001b[0m \u001b[0mvalue\u001b[0m \u001b[0;32min\u001b[0m \u001b[0mkwargs\u001b[0m\u001b[0;34m.\u001b[0m\u001b[0mitems\u001b[0m\u001b[0;34m(\u001b[0m\u001b[0;34m)\u001b[0m\u001b[0;34m\u001b[0m\u001b[0;34m\u001b[0m\u001b[0m\n\u001b[0m\u001b[1;32m   1797\u001b[0m         ]\n\u001b[1;32m   1798\u001b[0m         \u001b[0;32mreturn\u001b[0m \u001b[0mself\u001b[0m\u001b[0;34m.\u001b[0m\u001b[0mfilter\u001b[0m\u001b[0;34m(\u001b[0m\u001b[0;34m*\u001b[0m\u001b[0mclauses\u001b[0m\u001b[0;34m)\u001b[0m\u001b[0;34m\u001b[0m\u001b[0;34m\u001b[0m\u001b[0m\n",
      "\u001b[0;32m~/miniconda/envs/clara-env/lib/python3.7/site-packages/sqlalchemy/orm/query.py\u001b[0m in \u001b[0;36m<listcomp>\u001b[0;34m(.0)\u001b[0m\n\u001b[1;32m   1794\u001b[0m         clauses = [\n\u001b[1;32m   1795\u001b[0m             \u001b[0m_entity_descriptor\u001b[0m\u001b[0;34m(\u001b[0m\u001b[0mself\u001b[0m\u001b[0;34m.\u001b[0m\u001b[0m_joinpoint_zero\u001b[0m\u001b[0;34m(\u001b[0m\u001b[0;34m)\u001b[0m\u001b[0;34m,\u001b[0m \u001b[0mkey\u001b[0m\u001b[0;34m)\u001b[0m \u001b[0;34m==\u001b[0m \u001b[0mvalue\u001b[0m\u001b[0;34m\u001b[0m\u001b[0;34m\u001b[0m\u001b[0m\n\u001b[0;32m-> 1796\u001b[0;31m             \u001b[0;32mfor\u001b[0m \u001b[0mkey\u001b[0m\u001b[0;34m,\u001b[0m \u001b[0mvalue\u001b[0m \u001b[0;32min\u001b[0m \u001b[0mkwargs\u001b[0m\u001b[0;34m.\u001b[0m\u001b[0mitems\u001b[0m\u001b[0;34m(\u001b[0m\u001b[0;34m)\u001b[0m\u001b[0;34m\u001b[0m\u001b[0;34m\u001b[0m\u001b[0m\n\u001b[0m\u001b[1;32m   1797\u001b[0m         ]\n\u001b[1;32m   1798\u001b[0m         \u001b[0;32mreturn\u001b[0m \u001b[0mself\u001b[0m\u001b[0;34m.\u001b[0m\u001b[0mfilter\u001b[0m\u001b[0;34m(\u001b[0m\u001b[0;34m*\u001b[0m\u001b[0mclauses\u001b[0m\u001b[0;34m)\u001b[0m\u001b[0;34m\u001b[0m\u001b[0;34m\u001b[0m\u001b[0m\n",
      "\u001b[0;32m~/miniconda/envs/clara-env/lib/python3.7/site-packages/sqlalchemy/orm/base.py\u001b[0m in \u001b[0;36m_entity_descriptor\u001b[0;34m(entity, key)\u001b[0m\n\u001b[1;32m    400\u001b[0m     \u001b[0;32mexcept\u001b[0m \u001b[0mAttributeError\u001b[0m\u001b[0;34m:\u001b[0m\u001b[0;34m\u001b[0m\u001b[0;34m\u001b[0m\u001b[0m\n\u001b[1;32m    401\u001b[0m         raise sa_exc.InvalidRequestError(\n\u001b[0;32m--> 402\u001b[0;31m             \u001b[0;34m\"Entity '%s' has no property '%s'\"\u001b[0m \u001b[0;34m%\u001b[0m \u001b[0;34m(\u001b[0m\u001b[0mdescription\u001b[0m\u001b[0;34m,\u001b[0m \u001b[0mkey\u001b[0m\u001b[0;34m)\u001b[0m\u001b[0;34m\u001b[0m\u001b[0;34m\u001b[0m\u001b[0m\n\u001b[0m\u001b[1;32m    403\u001b[0m         )\n\u001b[1;32m    404\u001b[0m \u001b[0;34m\u001b[0m\u001b[0m\n",
      "\u001b[0;31mInvalidRequestError\u001b[0m: Entity '<class '__main__.Image'>' has no property 'name'"
     ]
    }
   ],
   "source": [
    "session.query(Keyword.images).join(Image).filter_by(name = key).all()"
   ]
  },
  {
   "cell_type": "code",
   "execution_count": 13,
   "metadata": {
    "ExecuteTime": {
     "end_time": "2019-07-16T13:15:55.363652Z",
     "start_time": "2019-07-16T13:15:55.357024Z"
    }
   },
   "outputs": [
    {
     "data": {
      "text/plain": [
       "[<Keyword(name=Haus, images:5)>, <Keyword(name=Sommer, images:28)>]"
      ]
     },
     "execution_count": 13,
     "metadata": {},
     "output_type": "execute_result"
    }
   ],
   "source": [
    "session.query(Image).filter_by(title = 'Haus').first().keywords"
   ]
  },
  {
   "cell_type": "code",
   "execution_count": null,
   "metadata": {},
   "outputs": [],
   "source": []
  }
 ],
 "metadata": {
  "kernelspec": {
   "display_name": "Python 3",
   "language": "python",
   "name": "python3"
  },
  "language_info": {
   "codemirror_mode": {
    "name": "ipython",
    "version": 3
   },
   "file_extension": ".py",
   "mimetype": "text/x-python",
   "name": "python",
   "nbconvert_exporter": "python",
   "pygments_lexer": "ipython3",
   "version": "3.7.3"
  },
  "varInspector": {
   "cols": {
    "lenName": 16,
    "lenType": 16,
    "lenVar": 40
   },
   "kernels_config": {
    "python": {
     "delete_cmd_postfix": "",
     "delete_cmd_prefix": "del ",
     "library": "var_list.py",
     "varRefreshCmd": "print(var_dic_list())"
    },
    "r": {
     "delete_cmd_postfix": ") ",
     "delete_cmd_prefix": "rm(",
     "library": "var_list.r",
     "varRefreshCmd": "cat(var_dic_list()) "
    }
   },
   "types_to_exclude": [
    "module",
    "function",
    "builtin_function_or_method",
    "instance",
    "_Feature"
   ],
   "window_display": false
  }
 },
 "nbformat": 4,
 "nbformat_minor": 2
}
