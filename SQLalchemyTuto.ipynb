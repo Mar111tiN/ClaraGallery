{
 "cells": [
  {
   "cell_type": "markdown",
   "metadata": {},
   "source": [
    "### init the engine"
   ]
  },
  {
   "cell_type": "code",
   "execution_count": 1,
   "metadata": {
    "ExecuteTime": {
     "end_time": "2019-06-29T13:20:40.949498Z",
     "start_time": "2019-06-29T13:20:40.824033Z"
    }
   },
   "outputs": [],
   "source": [
    "from sqlalchemy import create_engine\n",
    "engine = create_engine('postgresql://mahtin@localhost:5432/mahtin', echo=False)"
   ]
  },
  {
   "cell_type": "markdown",
   "metadata": {},
   "source": [
    "### declare a schema"
   ]
  },
  {
   "cell_type": "code",
   "execution_count": 2,
   "metadata": {
    "ExecuteTime": {
     "end_time": "2019-06-29T13:21:47.660161Z",
     "start_time": "2019-06-29T13:21:47.609136Z"
    }
   },
   "outputs": [],
   "source": [
    "from sqlalchemy.ext.declarative import declarative_base\n",
    "Base = declarative_base()"
   ]
  },
  {
   "cell_type": "code",
   "execution_count": 3,
   "metadata": {
    "ExecuteTime": {
     "end_time": "2019-06-29T13:21:48.344095Z",
     "start_time": "2019-06-29T13:21:48.337336Z"
    }
   },
   "outputs": [],
   "source": [
    "from sqlalchemy import Column, Integer, String\n",
    "class User(Base):\n",
    "    __tablename__ = 'users'\n",
    "    \n",
    "    id = Column(Integer, primary_key=True)\n",
    "    name = Column(String(80))\n",
    "    fullname = Column(String(80))\n",
    "    nickname = Column(String(50))\n",
    "    \n",
    "    def __repr__(self):\n",
    "        return f\"<User(name={self.name}, fullname={self.fullname}, nickname={self.nickname})\""
   ]
  },
  {
   "cell_type": "markdown",
   "metadata": {},
   "source": [
    "### create the table(s)"
   ]
  },
  {
   "cell_type": "code",
   "execution_count": 4,
   "metadata": {
    "ExecuteTime": {
     "end_time": "2019-06-29T13:21:50.858145Z",
     "start_time": "2019-06-29T13:21:50.840118Z"
    }
   },
   "outputs": [],
   "source": [
    "Base.metadata.create_all(engine)"
   ]
  },
  {
   "cell_type": "markdown",
   "metadata": {},
   "source": [
    "### creating a session class"
   ]
  },
  {
   "cell_type": "code",
   "execution_count": 5,
   "metadata": {
    "ExecuteTime": {
     "end_time": "2019-06-29T13:21:53.345660Z",
     "start_time": "2019-06-29T13:21:53.342589Z"
    }
   },
   "outputs": [],
   "source": [
    "from sqlalchemy.orm import sessionmaker\n",
    "Session = sessionmaker(bind=engine) # the bind can be defined later over Session.configure(bind=engine)\n",
    "session = Session()"
   ]
  },
  {
   "cell_type": "markdown",
   "metadata": {},
   "source": [
    "### initiate a session and add objects"
   ]
  },
  {
   "cell_type": "code",
   "execution_count": 6,
   "metadata": {
    "ExecuteTime": {
     "end_time": "2019-05-26T12:25:25.939636Z",
     "start_time": "2019-05-26T12:25:25.921683Z"
    }
   },
   "outputs": [
    {
     "data": {
      "text/plain": [
       "'Ed Jones'"
      ]
     },
     "execution_count": 6,
     "metadata": {},
     "output_type": "execute_result"
    },
    {
     "data": {
      "text/plain": [
       "<User(name=ed, fullname=Ed Jones, nickname=Eddy)"
      ]
     },
     "execution_count": 6,
     "metadata": {},
     "output_type": "execute_result"
    }
   ],
   "source": [
    "ed_user = User(name='ed', fullname='Ed Jones', nickname='Eddy')\n",
    "ed_user.fullname\n",
    "session.add(ed_user) # session is pending\n",
    "our_user = session.query(User).filter_by(name='ed').first()\n",
    "our_user"
   ]
  },
  {
   "cell_type": "code",
   "execution_count": 7,
   "metadata": {
    "ExecuteTime": {
     "end_time": "2019-05-26T12:25:26.785995Z",
     "start_time": "2019-05-26T12:25:26.782198Z"
    }
   },
   "outputs": [],
   "source": [
    "session.add_all([\n",
    "...     User(name='wendy', fullname='Wendy Williams', nickname='windy'),\n",
    "...     User(name='mary', fullname='Mary Contrary', nickname='mary'),\n",
    "...     User(name='fred', fullname='Fred Flintstone', nickname='freddy')])"
   ]
  },
  {
   "cell_type": "code",
   "execution_count": 8,
   "metadata": {
    "ExecuteTime": {
     "end_time": "2019-05-26T12:25:27.560634Z",
     "start_time": "2019-05-26T12:25:27.557978Z"
    }
   },
   "outputs": [],
   "source": [
    "ed_user.nickname = 'Eddo'"
   ]
  },
  {
   "cell_type": "code",
   "execution_count": 9,
   "metadata": {
    "ExecuteTime": {
     "end_time": "2019-05-26T12:25:28.239097Z",
     "start_time": "2019-05-26T12:25:28.229512Z"
    }
   },
   "outputs": [],
   "source": [
    "session.commit()"
   ]
  },
  {
   "cell_type": "markdown",
   "metadata": {
    "ExecuteTime": {
     "end_time": "2019-05-09T18:52:31.668345Z",
     "start_time": "2019-05-09T18:52:31.664524Z"
    }
   },
   "source": [
    "## Querying"
   ]
  },
  {
   "cell_type": "markdown",
   "metadata": {},
   "source": [
    "+ query returns named tuples (after attributes or class in query) for every query object"
   ]
  },
  {
   "cell_type": "code",
   "execution_count": 10,
   "metadata": {
    "ExecuteTime": {
     "end_time": "2019-05-26T12:25:34.866670Z",
     "start_time": "2019-05-26T12:25:34.860705Z"
    }
   },
   "outputs": [
    {
     "name": "stdout",
     "output_type": "stream",
     "text": [
      "1 Ed Jones\n",
      "2 Wendy Williams\n",
      "3 Mary Contrary\n",
      "4 Fred Flintstone\n"
     ]
    }
   ],
   "source": [
    "for tuple in session.query(User, User.fullname).order_by(User.id):\n",
    "    print(tuple.User.id, tuple.fullname)"
   ]
  },
  {
   "cell_type": "markdown",
   "metadata": {},
   "source": [
    "+ label your resulting tuple name using label and aliased"
   ]
  },
  {
   "cell_type": "code",
   "execution_count": 11,
   "metadata": {
    "ExecuteTime": {
     "end_time": "2019-05-26T12:25:36.171319Z",
     "start_time": "2019-05-26T12:25:36.164796Z"
    }
   },
   "outputs": [
    {
     "name": "stdout",
     "output_type": "stream",
     "text": [
      "ed wendy\n",
      "ed mary\n"
     ]
    }
   ],
   "source": [
    "from sqlalchemy.orm import aliased\n",
    "alUser = aliased(User, name='alUser')\n",
    "for tuple in session.query(alUser, User.name.label('the_name'))[1:3]:\n",
    "    print(tuple.alUser.name, tuple.the_name)"
   ]
  },
  {
   "cell_type": "markdown",
   "metadata": {},
   "source": [
    "### filter and filter_by\n",
    "* filter_by gives simple attribute identities\n",
    "* filter allows complex expressions\n",
    "* all filter commands are fully chainable"
   ]
  },
  {
   "cell_type": "code",
   "execution_count": 12,
   "metadata": {
    "ExecuteTime": {
     "end_time": "2019-05-26T12:25:37.463102Z",
     "start_time": "2019-05-26T12:25:37.457420Z"
    }
   },
   "outputs": [
    {
     "data": {
      "text/plain": [
       "<User(name=ed, fullname=Ed Jones, nickname=Eddo)"
      ]
     },
     "execution_count": 12,
     "metadata": {},
     "output_type": "execute_result"
    }
   ],
   "source": [
    "session.query(User).order_by(User.id).filter_by(fullname='Ed Jones').first()"
   ]
  },
  {
   "cell_type": "code",
   "execution_count": 13,
   "metadata": {
    "ExecuteTime": {
     "end_time": "2019-05-26T12:25:38.134256Z",
     "start_time": "2019-05-26T12:25:38.128758Z"
    }
   },
   "outputs": [
    {
     "data": {
      "text/plain": [
       "<User(name=ed, fullname=Ed Jones, nickname=Eddo)"
      ]
     },
     "execution_count": 13,
     "metadata": {},
     "output_type": "execute_result"
    }
   ],
   "source": [
    "session.query(User).order_by(User.id).filter(User.fullname == 'Ed Jones').first()"
   ]
  },
  {
   "cell_type": "code",
   "execution_count": 14,
   "metadata": {
    "ExecuteTime": {
     "end_time": "2019-05-26T12:25:38.986595Z",
     "start_time": "2019-05-26T12:25:38.980919Z"
    }
   },
   "outputs": [
    {
     "data": {
      "text/plain": [
       "<User(name=ed, fullname=Ed Jones, nickname=Eddo)"
      ]
     },
     "execution_count": 14,
     "metadata": {},
     "output_type": "execute_result"
    }
   ],
   "source": [
    "session.query(User).filter_by(fullname='Ed Jones').filter(User.name == 'ed').first()"
   ]
  },
  {
   "cell_type": "code",
   "execution_count": 15,
   "metadata": {
    "ExecuteTime": {
     "end_time": "2019-05-26T12:25:39.501759Z",
     "start_time": "2019-05-26T12:25:39.496416Z"
    }
   },
   "outputs": [
    {
     "data": {
      "text/plain": [
       "<User(name=ed, fullname=Ed Jones, nickname=Eddo)"
      ]
     },
     "execution_count": 15,
     "metadata": {},
     "output_type": "execute_result"
    }
   ],
   "source": [
    "session.query(User).filter(User.fullname.like('%Ed%')).first()"
   ]
  },
  {
   "cell_type": "code",
   "execution_count": 16,
   "metadata": {
    "ExecuteTime": {
     "end_time": "2019-05-26T12:25:40.034358Z",
     "start_time": "2019-05-26T12:25:40.028634Z"
    }
   },
   "outputs": [
    {
     "data": {
      "text/plain": [
       "[<User(name=ed, fullname=Ed Jones, nickname=Eddo),\n",
       " <User(name=wendy, fullname=Wendy Williams, nickname=windy)]"
      ]
     },
     "execution_count": 16,
     "metadata": {},
     "output_type": "execute_result"
    }
   ],
   "source": [
    "session.query(User).filter(User.name.in_(['ed', 'wendy'])).all()"
   ]
  },
  {
   "cell_type": "code",
   "execution_count": 17,
   "metadata": {
    "ExecuteTime": {
     "end_time": "2019-05-26T12:25:40.695524Z",
     "start_time": "2019-05-26T12:25:40.689596Z"
    }
   },
   "outputs": [
    {
     "data": {
      "text/plain": [
       "[<User(name=ed, fullname=Ed Jones, nickname=Eddo),\n",
       " <User(name=wendy, fullname=Wendy Williams, nickname=windy),\n",
       " <User(name=fred, fullname=Fred Flintstone, nickname=freddy)]"
      ]
     },
     "execution_count": 17,
     "metadata": {},
     "output_type": "execute_result"
    }
   ],
   "source": [
    "from sqlalchemy import and_, or_\n",
    "session.query(User).filter(or_(User.name.in_(['ed', 'wendy']), User.name == 'fred')).all()"
   ]
  },
  {
   "cell_type": "markdown",
   "metadata": {},
   "source": [
    "+ you can use full SQL statements with from_statement()"
   ]
  },
  {
   "cell_type": "code",
   "execution_count": 18,
   "metadata": {
    "ExecuteTime": {
     "end_time": "2019-05-26T12:25:42.366321Z",
     "start_time": "2019-05-26T12:25:42.360912Z"
    }
   },
   "outputs": [
    {
     "data": {
      "text/plain": [
       "<User(name=ed, fullname=Ed Jones, nickname=Eddo)"
      ]
     },
     "execution_count": 18,
     "metadata": {},
     "output_type": "execute_result"
    }
   ],
   "source": [
    "from sqlalchemy import text\n",
    "session.query(User).from_statement(text(\"SELECT * FROM users WHERE name=:value\").params(value='ed')).first()"
   ]
  },
  {
   "cell_type": "markdown",
   "metadata": {},
   "source": [
    "### Relationships"
   ]
  },
  {
   "cell_type": "code",
   "execution_count": 8,
   "metadata": {
    "ExecuteTime": {
     "end_time": "2019-05-26T12:30:35.087425Z",
     "start_time": "2019-05-26T12:30:35.080639Z"
    }
   },
   "outputs": [],
   "source": [
    "from sqlalchemy import ForeignKey\n",
    "from sqlalchemy.orm import relationship\n",
    "class Address(Base):\n",
    "    __tablename__ = 'addresses'\n",
    "    id = Column(Integer, primary_key=True)\n",
    "    email_address = Column(String, nullable=False)\n",
    "    user_id = Column(Integer, ForeignKey('users.id'))\n",
    "    user = relationship(\"User\", back_populates='addresses')\n",
    "    \n",
    "    def __repr__(self):\n",
    "        return f\"<Address(email_address={self.email_address})>\"\n",
    "\n",
    "# this is resolved as a collection (configurable but defaulting to a list)\n",
    "User.addresses = relationship(\"Address\", order_by=Address.id, back_populates=\"user\")\n"
   ]
  },
  {
   "cell_type": "code",
   "execution_count": 20,
   "metadata": {
    "ExecuteTime": {
     "end_time": "2019-05-26T12:25:46.140381Z",
     "start_time": "2019-05-26T12:25:46.120534Z"
    }
   },
   "outputs": [],
   "source": [
    "Base.metadata.create_all(engine)"
   ]
  },
  {
   "cell_type": "code",
   "execution_count": 21,
   "metadata": {
    "ExecuteTime": {
     "end_time": "2019-05-26T12:25:52.992546Z",
     "start_time": "2019-05-26T12:25:52.988396Z"
    }
   },
   "outputs": [],
   "source": [
    "jack = User(name='jack', fullname='Jack Bean', nickname='gjffdd')"
   ]
  },
  {
   "cell_type": "code",
   "execution_count": 22,
   "metadata": {
    "ExecuteTime": {
     "end_time": "2019-05-26T12:25:53.418310Z",
     "start_time": "2019-05-26T12:25:53.415307Z"
    }
   },
   "outputs": [],
   "source": [
    "jack.addresses = [\n",
    "...                 Address(email_address='jack@google.com'),\n",
    "...                 Address(email_address='j25@yahoo.com')]"
   ]
  },
  {
   "cell_type": "code",
   "execution_count": 23,
   "metadata": {
    "ExecuteTime": {
     "end_time": "2019-05-26T12:25:54.268035Z",
     "start_time": "2019-05-26T12:25:54.264504Z"
    }
   },
   "outputs": [
    {
     "data": {
      "text/plain": [
       "[<Address(email_address=jack@google.com)>,\n",
       " <Address(email_address=j25@yahoo.com)>]"
      ]
     },
     "execution_count": 23,
     "metadata": {},
     "output_type": "execute_result"
    }
   ],
   "source": [
    "jack.addresses"
   ]
  },
  {
   "cell_type": "code",
   "execution_count": 24,
   "metadata": {
    "ExecuteTime": {
     "end_time": "2019-05-26T12:25:55.098509Z",
     "start_time": "2019-05-26T12:25:55.088394Z"
    }
   },
   "outputs": [],
   "source": [
    "session.add(jack)\n",
    "session.commit()"
   ]
  },
  {
   "cell_type": "code",
   "execution_count": 25,
   "metadata": {
    "ExecuteTime": {
     "end_time": "2019-05-26T12:25:58.990659Z",
     "start_time": "2019-05-26T12:25:58.984874Z"
    }
   },
   "outputs": [
    {
     "data": {
      "text/plain": [
       "[<Address(email_address=jack@google.com)>,\n",
       " <Address(email_address=j25@yahoo.com)>]"
      ]
     },
     "execution_count": 25,
     "metadata": {},
     "output_type": "execute_result"
    }
   ],
   "source": [
    "jack.addresses"
   ]
  },
  {
   "cell_type": "code",
   "execution_count": 26,
   "metadata": {
    "ExecuteTime": {
     "end_time": "2019-05-26T12:26:00.749229Z",
     "start_time": "2019-05-26T12:26:00.744853Z"
    }
   },
   "outputs": [
    {
     "data": {
      "text/plain": [
       "[<Address(email_address=jack@google.com)>,\n",
       " <Address(email_address=j25@yahoo.com)>]"
      ]
     },
     "execution_count": 26,
     "metadata": {},
     "output_type": "execute_result"
    }
   ],
   "source": [
    "session.query(Address).all()"
   ]
  },
  {
   "cell_type": "markdown",
   "metadata": {},
   "source": [
    "### Joins"
   ]
  },
  {
   "cell_type": "code",
   "execution_count": 27,
   "metadata": {
    "ExecuteTime": {
     "end_time": "2019-05-26T12:26:14.394086Z",
     "start_time": "2019-05-26T12:26:14.387418Z"
    }
   },
   "outputs": [
    {
     "name": "stdout",
     "output_type": "stream",
     "text": [
      "<User(name=jack, fullname=Jack Bean, nickname=gjffdd)\n",
      "<Address(email_address=jack@google.com)>\n"
     ]
    }
   ],
   "source": [
    "for u, a in session.query(User, Address).\\\n",
    "    filter(User.id==Address.user_id).\\\n",
    "    filter(Address.email_address=='jack@google.com').\\\n",
    "    all():\n",
    "        print(u)\n",
    "        print(a)"
   ]
  },
  {
   "cell_type": "markdown",
   "metadata": {},
   "source": [
    "As a default, a `join()` joins two dbs on their Foreign keys"
   ]
  },
  {
   "cell_type": "code",
   "execution_count": 28,
   "metadata": {
    "ExecuteTime": {
     "end_time": "2019-05-26T12:26:15.680148Z",
     "start_time": "2019-05-26T12:26:15.674736Z"
    }
   },
   "outputs": [
    {
     "data": {
      "text/plain": [
       "[<User(name=jack, fullname=Jack Bean, nickname=gjffdd)]"
      ]
     },
     "execution_count": 28,
     "metadata": {},
     "output_type": "execute_result"
    }
   ],
   "source": [
    "session.query(User).join(Address).\\\n",
    "    filter(Address.email_address=='jack@google.com').\\\n",
    "    all()"
   ]
  },
  {
   "cell_type": "markdown",
   "metadata": {
    "ExecuteTime": {
     "end_time": "2019-05-11T14:04:08.030751Z",
     "start_time": "2019-05-11T14:04:07.855Z"
    }
   },
   "source": [
    "Else, you can use more explicit join statements:"
   ]
  },
  {
   "cell_type": "code",
   "execution_count": 29,
   "metadata": {
    "ExecuteTime": {
     "end_time": "2019-05-26T12:26:16.784563Z",
     "start_time": "2019-05-26T12:26:16.779061Z"
    }
   },
   "outputs": [
    {
     "data": {
      "text/plain": [
       "[<User(name=jack, fullname=Jack Bean, nickname=gjffdd)]"
      ]
     },
     "execution_count": 29,
     "metadata": {},
     "output_type": "execute_result"
    }
   ],
   "source": [
    "session.query(User).join(Address, User.id==Address.user_id).all()"
   ]
  },
  {
   "cell_type": "code",
   "execution_count": 30,
   "metadata": {
    "ExecuteTime": {
     "end_time": "2019-05-26T12:26:17.327020Z",
     "start_time": "2019-05-26T12:26:17.315449Z"
    }
   },
   "outputs": [
    {
     "data": {
      "text/plain": [
       "[<User(name=jack, fullname=Jack Bean, nickname=gjffdd)]"
      ]
     },
     "execution_count": 30,
     "metadata": {},
     "output_type": "execute_result"
    },
    {
     "data": {
      "text/plain": [
       "[<User(name=jack, fullname=Jack Bean, nickname=gjffdd)]"
      ]
     },
     "execution_count": 30,
     "metadata": {},
     "output_type": "execute_result"
    },
    {
     "data": {
      "text/plain": [
       "[<User(name=jack, fullname=Jack Bean, nickname=gjffdd)]"
      ]
     },
     "execution_count": 30,
     "metadata": {},
     "output_type": "execute_result"
    }
   ],
   "source": [
    "session.query(User).join(User.addresses).all()\n",
    "\n",
    "session.query(User).join(Address, User.addresses).all()\n",
    "\n",
    "session.query(User).join('addresses').all()"
   ]
  },
  {
   "cell_type": "markdown",
   "metadata": {},
   "source": [
    "+ join only retrieves Users, where address field is defined\n",
    "+ for all Users, you can use outerjoin"
   ]
  },
  {
   "cell_type": "code",
   "execution_count": 31,
   "metadata": {
    "ExecuteTime": {
     "end_time": "2019-05-26T12:26:18.672403Z",
     "start_time": "2019-05-26T12:26:18.666755Z"
    }
   },
   "outputs": [
    {
     "data": {
      "text/plain": [
       "[<User(name=jack, fullname=Jack Bean, nickname=gjffdd),\n",
       " <User(name=wendy, fullname=Wendy Williams, nickname=windy),\n",
       " <User(name=fred, fullname=Fred Flintstone, nickname=freddy),\n",
       " <User(name=ed, fullname=Ed Jones, nickname=Eddo),\n",
       " <User(name=mary, fullname=Mary Contrary, nickname=mary)]"
      ]
     },
     "execution_count": 31,
     "metadata": {},
     "output_type": "execute_result"
    }
   ],
   "source": [
    "session.query(User).outerjoin(User.addresses).all()"
   ]
  },
  {
   "cell_type": "code",
   "execution_count": 32,
   "metadata": {
    "ExecuteTime": {
     "end_time": "2019-05-26T12:26:19.345001Z",
     "start_time": "2019-05-26T12:26:19.339148Z"
    }
   },
   "outputs": [
    {
     "data": {
      "text/plain": [
       "[(<User(name=jack, fullname=Jack Bean, nickname=gjffdd),\n",
       "  <Address(email_address=jack@google.com)>),\n",
       " (<User(name=jack, fullname=Jack Bean, nickname=gjffdd),\n",
       "  <Address(email_address=j25@yahoo.com)>)]"
      ]
     },
     "execution_count": 32,
     "metadata": {},
     "output_type": "execute_result"
    }
   ],
   "source": [
    "session.query(User, Address).select_from(Address).join(User).all()"
   ]
  },
  {
   "cell_type": "markdown",
   "metadata": {},
   "source": [
    "### Aliases\n",
    "+ for several references to same table you can use aliased()\n",
    "+ then you join the different aliases of same table to retrieve several values"
   ]
  },
  {
   "cell_type": "code",
   "execution_count": 33,
   "metadata": {
    "ExecuteTime": {
     "end_time": "2019-05-26T12:26:20.619844Z",
     "start_time": "2019-05-26T12:26:20.611132Z"
    }
   },
   "outputs": [
    {
     "data": {
      "text/plain": [
       "[('jack', 'jack@google.com', 'j25@yahoo.com')]"
      ]
     },
     "execution_count": 33,
     "metadata": {},
     "output_type": "execute_result"
    }
   ],
   "source": [
    "from sqlalchemy.orm import aliased\n",
    "add_alias1 = aliased(Address)\n",
    "add_alias2 = aliased(Address)\n",
    "session.query(User.name, add_alias1.email_address, add_alias2.email_address).\\\n",
    "    join(add_alias1, User.addresses).\\\n",
    "    join(add_alias2, User.addresses).\\\n",
    "    filter(add_alias1.email_address == 'jack@google.com').\\\n",
    "    filter(add_alias2.email_address == 'j25@yahoo.com').all()\n"
   ]
  },
  {
   "cell_type": "markdown",
   "metadata": {},
   "source": [
    "### subqueries\n",
    "+ first create a subquery using .subquery() which returns an SQL expression construct\n",
    "+ here, we use subquery for an aggregate function count()\n",
    "+ the subquery can be treated like a standard table with attributes accessible as c."
   ]
  },
  {
   "cell_type": "code",
   "execution_count": 1,
   "metadata": {
    "ExecuteTime": {
     "end_time": "2019-06-04T04:12:55.480582Z",
     "start_time": "2019-06-04T04:12:54.729202Z"
    }
   },
   "outputs": [
    {
     "ename": "NameError",
     "evalue": "name 'session' is not defined",
     "output_type": "error",
     "traceback": [
      "\u001b[0;31m---------------------------------------------------------------------------\u001b[0m",
      "\u001b[0;31mNameError\u001b[0m                                 Traceback (most recent call last)",
      "\u001b[0;32m<ipython-input-1-5f89e96c750e>\u001b[0m in \u001b[0;36m<module>\u001b[0;34m\u001b[0m\n\u001b[1;32m      1\u001b[0m \u001b[0;32mfrom\u001b[0m \u001b[0msqlalchemy\u001b[0m \u001b[0;32mimport\u001b[0m \u001b[0mfunc\u001b[0m\u001b[0;34m\u001b[0m\u001b[0;34m\u001b[0m\u001b[0m\n\u001b[0;32m----> 2\u001b[0;31m \u001b[0msub_query\u001b[0m \u001b[0;34m=\u001b[0m \u001b[0msession\u001b[0m\u001b[0;34m.\u001b[0m\u001b[0mquery\u001b[0m\u001b[0;34m(\u001b[0m\u001b[0mAddress\u001b[0m\u001b[0;34m.\u001b[0m\u001b[0muser_id\u001b[0m\u001b[0;34m,\u001b[0m \u001b[0mfunc\u001b[0m\u001b[0;34m.\u001b[0m\u001b[0mcount\u001b[0m\u001b[0;34m(\u001b[0m\u001b[0;34m'*'\u001b[0m\u001b[0;34m)\u001b[0m\u001b[0;34m.\u001b[0m\u001b[0mlabel\u001b[0m\u001b[0;34m(\u001b[0m\u001b[0;34m'address_count'\u001b[0m\u001b[0;34m)\u001b[0m\u001b[0;34m)\u001b[0m\u001b[0;34m.\u001b[0m\u001b[0;31m\\\u001b[0m\u001b[0;34m\u001b[0m\u001b[0;34m\u001b[0m\u001b[0m\n\u001b[0m\u001b[1;32m      3\u001b[0m     \u001b[0mgroup_by\u001b[0m\u001b[0;34m(\u001b[0m\u001b[0mAddress\u001b[0m\u001b[0;34m.\u001b[0m\u001b[0muser_id\u001b[0m\u001b[0;34m)\u001b[0m\u001b[0;34m.\u001b[0m\u001b[0msubquery\u001b[0m\u001b[0;34m(\u001b[0m\u001b[0;34m)\u001b[0m\u001b[0;34m\u001b[0m\u001b[0;34m\u001b[0m\u001b[0m\n\u001b[1;32m      4\u001b[0m \u001b[0msub_query\u001b[0m\u001b[0;34m.\u001b[0m\u001b[0mc\u001b[0m\u001b[0;34m.\u001b[0m\u001b[0maddress_count\u001b[0m\u001b[0;34m.\u001b[0m\u001b[0mall\u001b[0m\u001b[0;34m(\u001b[0m\u001b[0;34m)\u001b[0m\u001b[0;34m\u001b[0m\u001b[0;34m\u001b[0m\u001b[0m\n",
      "\u001b[0;31mNameError\u001b[0m: name 'session' is not defined"
     ]
    }
   ],
   "source": [
    "from sqlalchemy import func\n",
    "sub_query = session.query(Address.user_id, func.count('*').label('address_count')).\\\n",
    "    group_by(Address.user_id).subquery()\n",
    "sub_query.c.address_count"
   ]
  },
  {
   "cell_type": "code",
   "execution_count": 35,
   "metadata": {
    "ExecuteTime": {
     "end_time": "2019-05-26T12:26:23.298001Z",
     "start_time": "2019-05-26T12:26:23.291169Z"
    }
   },
   "outputs": [
    {
     "data": {
      "text/plain": [
       "[(<User(name=ed, fullname=Ed Jones, nickname=Eddo), None),\n",
       " (<User(name=wendy, fullname=Wendy Williams, nickname=windy), None),\n",
       " (<User(name=mary, fullname=Mary Contrary, nickname=mary), None),\n",
       " (<User(name=fred, fullname=Fred Flintstone, nickname=freddy), None),\n",
       " (<User(name=jack, fullname=Jack Bean, nickname=gjffdd), 2)]"
      ]
     },
     "execution_count": 35,
     "metadata": {},
     "output_type": "execute_result"
    }
   ],
   "source": [
    "session.query(User, sub_query.c.address_count).\\\n",
    "    outerjoin(sub_query, User.id == sub_query.c.user_id).\\\n",
    "    order_by(User.id).all()"
   ]
  },
  {
   "cell_type": "markdown",
   "metadata": {},
   "source": [
    "### Exists"
   ]
  },
  {
   "cell_type": "code",
   "execution_count": 36,
   "metadata": {
    "ExecuteTime": {
     "end_time": "2019-05-26T12:26:26.728375Z",
     "start_time": "2019-05-26T12:26:26.722584Z"
    }
   },
   "outputs": [
    {
     "data": {
      "text/plain": [
       "[('ed'), ('wendy'), ('mary'), ('fred')]"
      ]
     },
     "execution_count": 36,
     "metadata": {},
     "output_type": "execute_result"
    }
   ],
   "source": [
    "from sqlalchemy.sql import exists\n",
    "existing = exists().where(Address.user_id != User.id)\n",
    "session.query(User.name).filter(existing).all()"
   ]
  },
  {
   "cell_type": "markdown",
   "metadata": {},
   "source": [
    "+ EXISTS can be expresses as any(condition) in SQLalchemy"
   ]
  },
  {
   "cell_type": "code",
   "execution_count": 37,
   "metadata": {
    "ExecuteTime": {
     "end_time": "2019-05-26T12:26:27.828876Z",
     "start_time": "2019-05-26T12:26:27.823261Z"
    }
   },
   "outputs": [
    {
     "data": {
      "text/plain": [
       "[('ed'), ('wendy'), ('mary'), ('fred')]"
      ]
     },
     "execution_count": 37,
     "metadata": {},
     "output_type": "execute_result"
    }
   ],
   "source": [
    "session.query(User.name).filter(~User.addresses.any()).all()"
   ]
  },
  {
   "cell_type": "code",
   "execution_count": 38,
   "metadata": {
    "ExecuteTime": {
     "end_time": "2019-05-26T12:26:28.236336Z",
     "start_time": "2019-05-26T12:26:28.230152Z"
    }
   },
   "outputs": [
    {
     "data": {
      "text/plain": [
       "[('jack')]"
      ]
     },
     "execution_count": 38,
     "metadata": {},
     "output_type": "execute_result"
    }
   ],
   "source": [
    "session.query(User.name).filter(User.addresses.any(Address.email_address.like('%google%'))).all()"
   ]
  },
  {
   "cell_type": "markdown",
   "metadata": {},
   "source": [
    "### Eager Loading\n",
    "+ if you want to load associated data in a single transaction, you can use selectinload\n",
    "+ in selectinload, the related data is loaded in a separate select call"
   ]
  },
  {
   "cell_type": "code",
   "execution_count": 39,
   "metadata": {
    "ExecuteTime": {
     "end_time": "2019-05-26T12:26:29.126599Z",
     "start_time": "2019-05-26T12:26:29.118822Z"
    }
   },
   "outputs": [
    {
     "data": {
      "text/plain": [
       "[<Address(email_address=jack@google.com)>,\n",
       " <Address(email_address=j25@yahoo.com)>]"
      ]
     },
     "execution_count": 39,
     "metadata": {},
     "output_type": "execute_result"
    }
   ],
   "source": [
    "from sqlalchemy.orm import selectinload\n",
    "session.query(User).options(selectinload(User.addresses)).\\\n",
    "    filter_by(name='jack').first().addresses"
   ]
  },
  {
   "cell_type": "markdown",
   "metadata": {
    "ExecuteTime": {
     "end_time": "2019-05-12T11:52:01.042196Z",
     "start_time": "2019-05-12T11:52:01.038432Z"
    }
   },
   "source": [
    "+ in joinedload, the data is joined in one select call"
   ]
  },
  {
   "cell_type": "code",
   "execution_count": 40,
   "metadata": {
    "ExecuteTime": {
     "end_time": "2019-05-26T12:26:30.071195Z",
     "start_time": "2019-05-26T12:26:30.062862Z"
    }
   },
   "outputs": [
    {
     "data": {
      "text/plain": [
       "[<Address(email_address=jack@google.com)>,\n",
       " <Address(email_address=j25@yahoo.com)>]"
      ]
     },
     "execution_count": 40,
     "metadata": {},
     "output_type": "execute_result"
    }
   ],
   "source": [
    "from sqlalchemy.orm import joinedload\n",
    "session.query(User).options(joinedload(User.addresses)).\\\n",
    "    filter_by(name='jack').first().addresses"
   ]
  },
  {
   "cell_type": "markdown",
   "metadata": {},
   "source": [
    "+ contains_eager preloads the associated data to be used in chained filters\n",
    "+ in example, Address.user is eager_loaded to allow filtering with User.name"
   ]
  },
  {
   "cell_type": "code",
   "execution_count": 41,
   "metadata": {
    "ExecuteTime": {
     "end_time": "2019-05-26T12:26:30.941421Z",
     "start_time": "2019-05-26T12:26:30.934662Z"
    }
   },
   "outputs": [
    {
     "data": {
      "text/plain": [
       "[<Address(email_address=jack@google.com)>,\n",
       " <Address(email_address=j25@yahoo.com)>]"
      ]
     },
     "execution_count": 41,
     "metadata": {},
     "output_type": "execute_result"
    }
   ],
   "source": [
    "from sqlalchemy.orm import contains_eager\n",
    "session.query(Address).join(Address.user).\\\n",
    "    filter(User.name=='jack').\\\n",
    "    options(contains_eager(Address.user)).all()"
   ]
  },
  {
   "cell_type": "markdown",
   "metadata": {},
   "source": [
    "### Deleting\n",
    "+ without cascading, data related to the deleted data will still be available"
   ]
  },
  {
   "cell_type": "code",
   "execution_count": 42,
   "metadata": {
    "ExecuteTime": {
     "end_time": "2019-05-26T12:26:31.964449Z",
     "start_time": "2019-05-26T12:26:31.954635Z"
    }
   },
   "outputs": [
    {
     "data": {
      "text/plain": [
       "2"
      ]
     },
     "execution_count": 42,
     "metadata": {},
     "output_type": "execute_result"
    }
   ],
   "source": [
    "session.delete(jack)\n",
    "session.query(Address).filter(Address.email_address.in_(['jack@google.com', 'j25@yahoo.com'])).count()"
   ]
  },
  {
   "cell_type": "markdown",
   "metadata": {},
   "source": [
    "+ with cascading, linked data is deleted as well\n",
    "+ here, we reset and declare the User class with cascading"
   ]
  },
  {
   "cell_type": "code",
   "execution_count": 45,
   "metadata": {
    "ExecuteTime": {
     "end_time": "2019-05-26T12:27:40.565885Z",
     "start_time": "2019-05-26T12:27:40.552815Z"
    }
   },
   "outputs": [],
   "source": [
    "session.close()\n",
    "Base = declarative_base()\n",
    "\n",
    "class User(Base):\n",
    "    __tablename__ = 'users'\n",
    "\n",
    "    id = Column(Integer, primary_key=True)\n",
    "     \n",
    "    name = Column(String)\n",
    "    fullname = Column(String)\n",
    "    nickname = Column(String)\n",
    "    addresses = relationship(\"Address\", back_populates='user',\n",
    "        cascade=\"all, delete, delete-orphan\")\n",
    "\n",
    "    def __repr__(self):\n",
    "        return \"<User(name='%s', fullname='%s', nickname='%s')>\" % (\n",
    "            self.name, self.fullname, self.nickname)\n",
    "    \n",
    "    \n",
    "class Address(Base):\n",
    "    __tablename__ = 'addresses'\n",
    "    id = Column(Integer, primary_key=True)\n",
    "    email_address = Column(String, nullable=False)\n",
    "    user_id = Column(Integer, ForeignKey('users.id'))\n",
    "    user = relationship(\"User\", back_populates=\"addresses\")\n",
    "\n",
    "    def __repr__(self):\n",
    "        return \"<Address(email_address='%s')>\" % self.email_address\n",
    "    \n",
    "Base.metadata.create_all(engine)\n"
   ]
  },
  {
   "cell_type": "markdown",
   "metadata": {},
   "source": [
    "+ with cascading activate, all associated data will be removed with the object"
   ]
  },
  {
   "cell_type": "code",
   "execution_count": 46,
   "metadata": {
    "ExecuteTime": {
     "end_time": "2019-05-26T12:27:42.354069Z",
     "start_time": "2019-05-26T12:27:42.340584Z"
    }
   },
   "outputs": [
    {
     "data": {
      "text/plain": [
       "2"
      ]
     },
     "execution_count": 46,
     "metadata": {},
     "output_type": "execute_result"
    }
   ],
   "source": [
    "session.delete(jack)\n",
    "session.query(Address).filter(Address.email_address.in_(['jack@google.com', 'j25@yahoo.com'])).count()"
   ]
  },
  {
   "cell_type": "markdown",
   "metadata": {},
   "source": [
    "### Many to Many Relationship\n",
    "+ for many2many, you can use an association table to combine both related tables"
   ]
  },
  {
   "cell_type": "code",
   "execution_count": 9,
   "metadata": {
    "ExecuteTime": {
     "end_time": "2019-05-26T12:30:39.167901Z",
     "start_time": "2019-05-26T12:30:39.163865Z"
    }
   },
   "outputs": [],
   "source": [
    "from sqlalchemy import Table, Text\n",
    "# association table\n",
    "post_keywords = Table('post_keywords', Base.metadata,\\\n",
    "            Column('post_id', ForeignKey('posts.id'), primary_key=True),\\\n",
    "            Column('keyword_id', ForeignKey('keywords.id'), primary_key=True))"
   ]
  },
  {
   "cell_type": "code",
   "execution_count": 10,
   "metadata": {
    "ExecuteTime": {
     "end_time": "2019-05-26T12:30:41.983461Z",
     "start_time": "2019-05-26T12:30:41.972714Z"
    }
   },
   "outputs": [],
   "source": [
    "class BlogPost(Base):\n",
    "    __tablename__ = 'posts'\n",
    "    \n",
    "    id = Column(Integer, primary_key=True)\n",
    "    user_id = Column(Integer, ForeignKey('users.id'))\n",
    "    headline = Column(String(255), nullable=False)\n",
    "    body = Column(Text)\n",
    "    \n",
    "    # here the relationship via the association table is created\n",
    "    keywords = relationship('Keyword', secondary=post_keywords, back_populates='posts')\n",
    "    \n",
    "    # init is optional in SQLalchemy\n",
    "    def __init__(self, headline, body, author):\n",
    "        self.author = author\n",
    "        self.headline = headline\n",
    "        self.body = body\n",
    "        \n",
    "    def __repr__(self):\n",
    "        return f\"BlogPost({self.headline}, {self.body}, {self.author})\"\n",
    "    \n",
    "class Keyword(Base):\n",
    "    __tablename__ = 'keywords'\n",
    "    \n",
    "    id = Column(Integer, primary_key=True)\n",
    "    keyword = Column(String(50), nullable=False, unique=True)\n",
    "    posts = relationship('BlogPost', secondary=post_keywords, back_populates='keywords')\n",
    "    \n",
    "    # init is optional in SQLalchemy\n",
    "    def __init__(self, keyword):\n",
    "        self.keyword = keyword\n",
    "    "
   ]
  },
  {
   "cell_type": "code",
   "execution_count": 11,
   "metadata": {
    "ExecuteTime": {
     "end_time": "2019-05-26T12:30:44.107928Z",
     "start_time": "2019-05-26T12:30:44.104658Z"
    }
   },
   "outputs": [],
   "source": [
    "BlogPost.author = relationship(User, back_populates='posts')\n",
    "User.posts = relationship(BlogPost, back_populates=\"author\", lazy=\"dynamic\")"
   ]
  },
  {
   "cell_type": "code",
   "execution_count": 12,
   "metadata": {
    "ExecuteTime": {
     "end_time": "2019-05-26T12:30:45.280047Z",
     "start_time": "2019-05-26T12:30:45.244877Z"
    }
   },
   "outputs": [],
   "source": [
    "Base.metadata.create_all(engine)"
   ]
  },
  {
   "cell_type": "code",
   "execution_count": null,
   "metadata": {
    "ExecuteTime": {
     "start_time": "2019-05-26T12:28:40.019Z"
    }
   },
   "outputs": [],
   "source": [
    "wendy = session.query(dUser).filter_by(name='wendy').one()\n",
    "post = BlogPost(\"Wendy's Blog Post\", \"This is a test\", wendy)\n",
    "session.add(post)"
   ]
  },
  {
   "cell_type": "code",
   "execution_count": null,
   "metadata": {
    "ExecuteTime": {
     "end_time": "2019-05-26T12:22:55.284579Z",
     "start_time": "2019-05-26T12:22:54.590Z"
    }
   },
   "outputs": [],
   "source": [
    "post.keywords.append(Keyword('wendy'))\n",
    "post.keywords.append(Keyword('firstpost'))"
   ]
  },
  {
   "cell_type": "code",
   "execution_count": null,
   "metadata": {
    "ExecuteTime": {
     "end_time": "2019-05-26T12:22:55.285403Z",
     "start_time": "2019-05-26T12:22:54.592Z"
    }
   },
   "outputs": [],
   "source": [
    "session.commit()"
   ]
  },
  {
   "cell_type": "code",
   "execution_count": null,
   "metadata": {
    "ExecuteTime": {
     "end_time": "2019-05-26T12:22:55.286068Z",
     "start_time": "2019-05-26T12:22:54.593Z"
    }
   },
   "outputs": [],
   "source": [
    "session.query(BlogPost).filter(BlogPost.keywords.any(keyword='firstpost')).all()"
   ]
  },
  {
   "cell_type": "code",
   "execution_count": null,
   "metadata": {
    "ExecuteTime": {
     "end_time": "2019-05-26T12:22:55.286780Z",
     "start_time": "2019-05-26T12:22:54.595Z"
    }
   },
   "outputs": [],
   "source": [
    "session.query(BlogPost).filter(BlogPost.author==wendy).\\\n",
    "filter(BlogPost.keywords.any(keyword='firstpost')).all()"
   ]
  },
  {
   "cell_type": "code",
   "execution_count": null,
   "metadata": {},
   "outputs": [],
   "source": []
  },
  {
   "cell_type": "code",
   "execution_count": null,
   "metadata": {},
   "outputs": [],
   "source": []
  },
  {
   "cell_type": "markdown",
   "metadata": {},
   "source": [
    "# Pandas with SQLAlchemy"
   ]
  },
  {
   "cell_type": "code",
   "execution_count": null,
   "metadata": {
    "ExecuteTime": {
     "end_time": "2019-05-26T12:22:55.287812Z",
     "start_time": "2019-05-26T12:22:54.599Z"
    }
   },
   "outputs": [],
   "source": [
    "data = pd.read_sql_table('users', engine)"
   ]
  },
  {
   "cell_type": "code",
   "execution_count": null,
   "metadata": {
    "ExecuteTime": {
     "end_time": "2019-05-26T12:22:55.289405Z",
     "start_time": "2019-05-26T12:22:54.601Z"
    }
   },
   "outputs": [],
   "source": [
    "data"
   ]
  },
  {
   "cell_type": "code",
   "execution_count": null,
   "metadata": {
    "ExecuteTime": {
     "end_time": "2019-05-26T12:22:55.290370Z",
     "start_time": "2019-05-26T12:22:54.602Z"
    }
   },
   "outputs": [],
   "source": [
    "for d in data:\n",
    "    print(d)"
   ]
  },
  {
   "cell_type": "code",
   "execution_count": null,
   "metadata": {},
   "outputs": [],
   "source": []
  }
 ],
 "metadata": {
  "kernelspec": {
   "display_name": "Python 3",
   "language": "python",
   "name": "python3"
  },
  "language_info": {
   "codemirror_mode": {
    "name": "ipython",
    "version": 3
   },
   "file_extension": ".py",
   "mimetype": "text/x-python",
   "name": "python",
   "nbconvert_exporter": "python",
   "pygments_lexer": "ipython3",
   "version": "3.7.3"
  },
  "varInspector": {
   "cols": {
    "lenName": 16,
    "lenType": 16,
    "lenVar": 40
   },
   "kernels_config": {
    "python": {
     "delete_cmd_postfix": "",
     "delete_cmd_prefix": "del ",
     "library": "var_list.py",
     "varRefreshCmd": "print(var_dic_list())"
    },
    "r": {
     "delete_cmd_postfix": ") ",
     "delete_cmd_prefix": "rm(",
     "library": "var_list.r",
     "varRefreshCmd": "cat(var_dic_list()) "
    }
   },
   "types_to_exclude": [
    "module",
    "function",
    "builtin_function_or_method",
    "instance",
    "_Feature"
   ],
   "window_display": false
  }
 },
 "nbformat": 4,
 "nbformat_minor": 2
}
