{
 "cells": [
  {
   "cell_type": "markdown",
   "metadata": {},
   "source": [
    "### init the engine"
   ]
  },
  {
   "cell_type": "code",
   "execution_count": null,
   "metadata": {
    "ExecuteTime": {
     "end_time": "2019-07-15T21:05:23.988066Z",
     "start_time": "2019-07-15T21:05:23.985261Z"
    }
   },
   "outputs": [],
   "source": [
    "from sqlalchemy import create_engine\n",
    "engine = create_engine('postgresql://mahtin@localhost:5432/mahtin', echo=False)"
   ]
  },
  {
   "cell_type": "markdown",
   "metadata": {},
   "source": [
    "### declare a schema"
   ]
  },
  {
   "cell_type": "code",
   "execution_count": null,
   "metadata": {
    "ExecuteTime": {
     "end_time": "2019-07-15T21:01:00.723497Z",
     "start_time": "2019-07-15T21:01:00.669311Z"
    }
   },
   "outputs": [],
   "source": [
    "from sqlalchemy.ext.declarative import declarative_base\n",
    "Base = declarative_base()"
   ]
  },
  {
   "cell_type": "code",
   "execution_count": null,
   "metadata": {
    "ExecuteTime": {
     "end_time": "2019-07-15T21:01:04.315085Z",
     "start_time": "2019-07-15T21:01:04.308385Z"
    }
   },
   "outputs": [],
   "source": [
    "from sqlalchemy import Column, Integer, String\n",
    "class User(Base):\n",
    "    __tablename__ = 'users'\n",
    "    \n",
    "    id = Column(Integer, primary_key=True)\n",
    "    name = Column(String(80))\n",
    "    fullname = Column(String(80))\n",
    "    nickname = Column(String(50))\n",
    "    \n",
    "    def __repr__(self):\n",
    "        return f\"<User(name={self.name}, fullname={self.fullname}, nickname={self.nickname})\""
   ]
  },
  {
   "cell_type": "markdown",
   "metadata": {},
   "source": [
    "### create the table(s)"
   ]
  },
  {
   "cell_type": "code",
   "execution_count": null,
   "metadata": {
    "ExecuteTime": {
     "end_time": "2019-07-15T21:01:07.306548Z",
     "start_time": "2019-07-15T21:01:07.277120Z"
    }
   },
   "outputs": [],
   "source": [
    "Base.metadata.create_all(engine)"
   ]
  },
  {
   "cell_type": "markdown",
   "metadata": {},
   "source": [
    "### creating a session class"
   ]
  },
  {
   "cell_type": "code",
   "execution_count": null,
   "metadata": {
    "ExecuteTime": {
     "end_time": "2019-07-15T21:01:21.252438Z",
     "start_time": "2019-07-15T21:01:21.249352Z"
    }
   },
   "outputs": [],
   "source": [
    "from sqlalchemy.orm import sessionmaker\n",
    "Session = sessionmaker(bind=engine) # the bind can be defined later over Session.configure(bind=engine)\n",
    "session = Session()"
   ]
  },
  {
   "cell_type": "markdown",
   "metadata": {},
   "source": [
    "### initiate a session and add objects"
   ]
  },
  {
   "cell_type": "code",
   "execution_count": null,
   "metadata": {
    "ExecuteTime": {
     "end_time": "2019-07-15T19:50:46.836673Z",
     "start_time": "2019-07-15T19:50:46.808365Z"
    }
   },
   "outputs": [],
   "source": [
    "ed_user = User(name='ed', fullname='Ed Jones', nickname='Eddy')\n",
    "ed_user.fullname\n",
    "session.add(ed_user) # session is pending\n",
    "our_user = session.query(User).filter_by(name='ed').all()[0]\n",
    "our_user\n",
    "our_user2 = session.query(User).filter_by(name='ed').first()\n",
    "our_user2"
   ]
  },
  {
   "cell_type": "code",
   "execution_count": null,
   "metadata": {
    "ExecuteTime": {
     "end_time": "2019-07-15T19:51:06.337252Z",
     "start_time": "2019-07-15T19:51:06.333503Z"
    }
   },
   "outputs": [],
   "source": [
    "session.add_all([\n",
    "...     User(name='wendy', fullname='Wendy Williams', nickname='windy'),\n",
    "...     User(name='mary', fullname='Mary Contrary', nickname='mary'),\n",
    "...     User(name='fred', fullname='Fred Flintstone', nickname='freddy')])"
   ]
  },
  {
   "cell_type": "code",
   "execution_count": null,
   "metadata": {
    "ExecuteTime": {
     "end_time": "2019-07-15T19:51:07.083522Z",
     "start_time": "2019-07-15T19:51:07.080920Z"
    }
   },
   "outputs": [],
   "source": [
    "ed_user.nickname = 'Eddo'"
   ]
  },
  {
   "cell_type": "code",
   "execution_count": null,
   "metadata": {
    "ExecuteTime": {
     "end_time": "2019-07-15T19:51:07.683001Z",
     "start_time": "2019-07-15T19:51:07.665956Z"
    }
   },
   "outputs": [],
   "source": [
    "session.query(User).all()"
   ]
  },
  {
   "cell_type": "code",
   "execution_count": null,
   "metadata": {
    "ExecuteTime": {
     "end_time": "2019-07-15T19:51:34.459891Z",
     "start_time": "2019-07-15T19:51:34.450360Z"
    }
   },
   "outputs": [],
   "source": [
    "session.commit()"
   ]
  },
  {
   "cell_type": "code",
   "execution_count": null,
   "metadata": {
    "ExecuteTime": {
     "end_time": "2019-07-15T19:51:53.556852Z",
     "start_time": "2019-07-15T19:51:53.550117Z"
    }
   },
   "outputs": [],
   "source": [
    "session.query(User.id).all()"
   ]
  },
  {
   "cell_type": "markdown",
   "metadata": {
    "ExecuteTime": {
     "end_time": "2019-05-09T18:52:31.668345Z",
     "start_time": "2019-05-09T18:52:31.664524Z"
    }
   },
   "source": [
    "## Querying"
   ]
  },
  {
   "cell_type": "markdown",
   "metadata": {},
   "source": [
    "+ query returns named tuples (after attributes or class in query) for every query object"
   ]
  },
  {
   "cell_type": "code",
   "execution_count": null,
   "metadata": {
    "ExecuteTime": {
     "end_time": "2019-07-15T19:52:01.482170Z",
     "start_time": "2019-07-15T19:52:01.471454Z"
    }
   },
   "outputs": [],
   "source": [
    "for tuple in session.query(User, User.fullname).order_by(User.id):\n",
    "    print(tuple.User.id, tuple.fullname)"
   ]
  },
  {
   "cell_type": "markdown",
   "metadata": {},
   "source": [
    "+ label your resulting tuple name using label and aliased"
   ]
  },
  {
   "cell_type": "code",
   "execution_count": null,
   "metadata": {
    "ExecuteTime": {
     "end_time": "2019-07-15T19:52:19.021544Z",
     "start_time": "2019-07-15T19:52:19.013266Z"
    }
   },
   "outputs": [],
   "source": [
    "from sqlalchemy.orm import aliased\n",
    "alUser = aliased(User, name='alUser')\n",
    "for tuple in session.query(alUser, User.name.label('the_name'))[1:3]:\n",
    "    print(tuple.alUser.name, tuple.the_name)"
   ]
  },
  {
   "cell_type": "markdown",
   "metadata": {},
   "source": [
    "### filter and filter_by\n",
    "* filter_by gives simple attribute identities\n",
    "* filter allows complex expressions\n",
    "* all filter commands are fully chainable"
   ]
  },
  {
   "cell_type": "code",
   "execution_count": null,
   "metadata": {
    "ExecuteTime": {
     "end_time": "2019-07-15T19:52:51.498197Z",
     "start_time": "2019-07-15T19:52:51.485439Z"
    }
   },
   "outputs": [],
   "source": [
    "session.query(User).order_by(User.id).filter_by(fullname='Ed Jones').all()\n",
    "session.query(User).order_by(User.id).filter_by(fullname='Ed Jones').filter_by(nickname='Eddo').all()"
   ]
  },
  {
   "cell_type": "code",
   "execution_count": null,
   "metadata": {
    "ExecuteTime": {
     "end_time": "2019-07-15T19:53:25.721481Z",
     "start_time": "2019-07-15T19:53:25.708384Z"
    }
   },
   "outputs": [],
   "source": [
    "session.query(User).order_by(User.id).filter(User.fullname == 'Ed Jones').all()\n",
    "session.query(User).order_by(User.id).filter(User.fullname == 'Ed Jones').filter(User.nickname == 'Eddo').all()"
   ]
  },
  {
   "cell_type": "code",
   "execution_count": null,
   "metadata": {
    "ExecuteTime": {
     "end_time": "2019-07-15T19:53:26.063157Z",
     "start_time": "2019-07-15T19:53:26.055443Z"
    }
   },
   "outputs": [],
   "source": [
    "session.query(User).filter(User.fullname.ilike('%WilL%')).all()"
   ]
  },
  {
   "cell_type": "code",
   "execution_count": null,
   "metadata": {
    "ExecuteTime": {
     "end_time": "2019-07-15T19:54:50.477296Z",
     "start_time": "2019-07-15T19:54:50.469580Z"
    }
   },
   "outputs": [],
   "source": [
    "session.query(User).filter(User.name.in_(['ed', 'wendy', 'jack'])).all()"
   ]
  },
  {
   "cell_type": "code",
   "execution_count": null,
   "metadata": {
    "ExecuteTime": {
     "end_time": "2019-07-15T19:54:55.860881Z",
     "start_time": "2019-07-15T19:54:55.852071Z"
    }
   },
   "outputs": [],
   "source": [
    "from sqlalchemy import and_, or_\n",
    "session.query(User).filter(or_(User.name.in_(['ed', 'wendy']), User.name == 'fred', User.nickname == 'windy')).all()"
   ]
  },
  {
   "cell_type": "markdown",
   "metadata": {},
   "source": [
    "+ you can use full SQL statements with from_statement()"
   ]
  },
  {
   "cell_type": "code",
   "execution_count": null,
   "metadata": {
    "ExecuteTime": {
     "end_time": "2019-07-15T19:55:24.977373Z",
     "start_time": "2019-07-15T19:55:24.970772Z"
    }
   },
   "outputs": [],
   "source": [
    "from sqlalchemy import text\n",
    "session.query(User).from_statement(text(\"SELECT * FROM users WHERE name=:value\").params(value='ed')).first()"
   ]
  },
  {
   "cell_type": "markdown",
   "metadata": {},
   "source": [
    "### Relationships"
   ]
  },
  {
   "cell_type": "markdown",
   "metadata": {},
   "source": [
    "+ ForeignKey sets the connection by restricting own keys to match (and thereby possibly relate to) keys in other tables"
   ]
  },
  {
   "cell_type": "code",
   "execution_count": null,
   "metadata": {
    "ExecuteTime": {
     "end_time": "2019-07-15T21:01:35.558506Z",
     "start_time": "2019-07-15T21:01:35.550594Z"
    }
   },
   "outputs": [],
   "source": [
    "from sqlalchemy import ForeignKey\n",
    "from sqlalchemy.orm import relationship\n",
    "\n",
    "class Address(Base):\n",
    "    __tablename__ = 'addresses'\n",
    "    id = Column(Integer, primary_key=True)\n",
    "    email_address = Column(String, nullable=False)\n",
    "    # here, addresses.user is connected to users.id\n",
    "    # the table carrying the ForeignKey is the many in the relationship\n",
    "    user_id = Column(Integer, ForeignKey('users.id'))\n",
    "    # User.addresses is populated by Address.user where Address.user == User.id\n",
    "    user = relationship(\"User\", back_populates='addresses')\n",
    "    \n",
    "    def __repr__(self):\n",
    "        return f\"<Address(email_address={self.email_address})>\"\n",
    "\n",
    "# this is resolved as a collection (configurable but defaulting to a list)\n",
    "User.addresses = relationship(\"Address\", order_by=Address.id, back_populates=\"user\")\n"
   ]
  },
  {
   "cell_type": "code",
   "execution_count": null,
   "metadata": {
    "ExecuteTime": {
     "end_time": "2019-07-15T19:55:36.999607Z",
     "start_time": "2019-07-15T19:55:36.985067Z"
    }
   },
   "outputs": [],
   "source": [
    "Base.metadata.create_all(engine)"
   ]
  },
  {
   "cell_type": "code",
   "execution_count": null,
   "metadata": {
    "ExecuteTime": {
     "end_time": "2019-07-15T19:55:41.298199Z",
     "start_time": "2019-07-15T19:55:41.294310Z"
    }
   },
   "outputs": [],
   "source": [
    "jack = User(name='jack', fullname='Jack Bean', nickname='gjffdd')"
   ]
  },
  {
   "cell_type": "code",
   "execution_count": null,
   "metadata": {
    "ExecuteTime": {
     "end_time": "2019-07-15T19:55:41.981889Z",
     "start_time": "2019-07-15T19:55:41.978755Z"
    }
   },
   "outputs": [],
   "source": [
    "jack.addresses = [\n",
    "...                 Address(email_address='jack@google.com'),\n",
    "...                 Address(email_address='j25@yahoo.com')]"
   ]
  },
  {
   "cell_type": "code",
   "execution_count": null,
   "metadata": {
    "ExecuteTime": {
     "end_time": "2019-07-15T19:55:42.578826Z",
     "start_time": "2019-07-15T19:55:42.567045Z"
    }
   },
   "outputs": [],
   "source": [
    "jack.addresses\n",
    "jack.addresses[0]\n",
    "jack.addresses[0].user\n",
    "jack.addresses[0].user.name"
   ]
  },
  {
   "cell_type": "code",
   "execution_count": null,
   "metadata": {
    "ExecuteTime": {
     "end_time": "2019-07-15T19:55:46.988002Z",
     "start_time": "2019-07-15T19:55:46.972128Z"
    }
   },
   "outputs": [],
   "source": [
    "session.add(jack)\n",
    "session.commit()"
   ]
  },
  {
   "cell_type": "code",
   "execution_count": null,
   "metadata": {
    "ExecuteTime": {
     "end_time": "2019-07-15T19:56:15.356183Z",
     "start_time": "2019-07-15T19:56:15.348704Z"
    }
   },
   "outputs": [],
   "source": [
    "jack.addresses"
   ]
  },
  {
   "cell_type": "code",
   "execution_count": null,
   "metadata": {
    "ExecuteTime": {
     "end_time": "2019-07-15T19:56:52.890390Z",
     "start_time": "2019-07-15T19:56:52.885679Z"
    }
   },
   "outputs": [],
   "source": [
    "str(session.query(Address.user))"
   ]
  },
  {
   "cell_type": "markdown",
   "metadata": {},
   "source": [
    "### Joins\n",
    "+ joins can be better in cases where filtering looks into two tables as the database does not need to load a full cross join into memory (as below)"
   ]
  },
  {
   "cell_type": "code",
   "execution_count": null,
   "metadata": {
    "ExecuteTime": {
     "end_time": "2019-07-15T19:59:56.648680Z",
     "start_time": "2019-07-15T19:59:56.640622Z"
    }
   },
   "outputs": [],
   "source": [
    "session.query(User.name, Address).\\\n",
    "    filter(User.id==Address.user_id). \\\n",
    "    filter(Address.email_address=='jack@google.com').\\\n",
    "    all()"
   ]
  },
  {
   "cell_type": "code",
   "execution_count": null,
   "metadata": {
    "ExecuteTime": {
     "end_time": "2019-07-15T19:59:57.332274Z",
     "start_time": "2019-07-15T19:59:57.324796Z"
    }
   },
   "outputs": [],
   "source": [
    "for u, a in session.query(User, Address).\\\n",
    "    filter(User.id==Address.user_id).\\\n",
    "    filter(Address.email_address=='jack@google.com').\\\n",
    "    all():\n",
    "        print(u.name)\n",
    "        print(a.email_address)"
   ]
  },
  {
   "cell_type": "markdown",
   "metadata": {},
   "source": [
    "As a default, a `join()` joins two dbs on their Foreign keys"
   ]
  },
  {
   "cell_type": "code",
   "execution_count": null,
   "metadata": {
    "ExecuteTime": {
     "end_time": "2019-07-15T20:00:52.907446Z",
     "start_time": "2019-07-15T20:00:52.899415Z"
    }
   },
   "outputs": [],
   "source": [
    "session.query(User).join(Address).\\\n",
    "    filter(Address.email_address=='jack@google.com').\\\n",
    "    all()"
   ]
  },
  {
   "cell_type": "markdown",
   "metadata": {
    "ExecuteTime": {
     "end_time": "2019-05-11T14:04:08.030751Z",
     "start_time": "2019-05-11T14:04:07.855Z"
    }
   },
   "source": [
    "Else, you can use more explicit join statements:"
   ]
  },
  {
   "cell_type": "code",
   "execution_count": null,
   "metadata": {
    "ExecuteTime": {
     "end_time": "2019-07-15T20:38:42.758042Z",
     "start_time": "2019-07-15T20:38:42.750677Z"
    }
   },
   "outputs": [],
   "source": [
    "session.query(User).join(Address, User.id==Address.user_id).all()"
   ]
  },
  {
   "cell_type": "code",
   "execution_count": null,
   "metadata": {
    "ExecuteTime": {
     "end_time": "2019-07-15T20:38:45.748962Z",
     "start_time": "2019-07-15T20:38:45.731162Z"
    }
   },
   "outputs": [],
   "source": [
    "session.query(User).join(User.addresses).all()\n",
    "\n",
    "session.query(User).join(Address, User.addresses).all()\n",
    "\n",
    "session.query(User).join('addresses').all()"
   ]
  },
  {
   "cell_type": "markdown",
   "metadata": {},
   "source": [
    "+ join only retrieves Users, where address field is defined\n",
    "+ for all Users, you can use outerjoin"
   ]
  },
  {
   "cell_type": "code",
   "execution_count": null,
   "metadata": {
    "ExecuteTime": {
     "end_time": "2019-07-15T20:39:56.382788Z",
     "start_time": "2019-07-15T20:39:56.375479Z"
    }
   },
   "outputs": [],
   "source": [
    "session.query(User).outerjoin(Address).all()"
   ]
  },
  {
   "cell_type": "code",
   "execution_count": null,
   "metadata": {
    "ExecuteTime": {
     "end_time": "2019-07-15T20:40:24.628758Z",
     "start_time": "2019-07-15T20:40:24.620621Z"
    }
   },
   "outputs": [],
   "source": [
    "session.query(User, Address).select_from(Address).join(User).all()"
   ]
  },
  {
   "cell_type": "markdown",
   "metadata": {},
   "source": [
    "### Aliases\n",
    "+ for several references to same table you can use aliased()\n",
    "+ then you join the different aliases of same table to retrieve several values"
   ]
  },
  {
   "cell_type": "code",
   "execution_count": null,
   "metadata": {
    "ExecuteTime": {
     "end_time": "2019-07-15T20:45:31.448469Z",
     "start_time": "2019-07-15T20:45:31.437493Z"
    }
   },
   "outputs": [],
   "source": [
    "from sqlalchemy.orm import aliased\n",
    "add_alias1 = aliased(Address)\n",
    "add_alias2 = aliased(Address)\n",
    "session.query(User.name, add_alias1.email_address, add_alias2.email_address).\\\n",
    "    join(add_alias1, User.addresses).\\\n",
    "    join(add_alias2, User.addresses).\\\n",
    "    filter(add_alias1.email_address == 'jack@google.com').\\\n",
    "    filter(add_alias2.email_address == 'j25@yahoo.com').all()\n"
   ]
  },
  {
   "cell_type": "markdown",
   "metadata": {},
   "source": [
    "### subqueries\n",
    "+ first create a subquery using .subquery() which returns an SQL expression construct\n",
    "+ here, we use subquery for an aggregate function count()\n",
    "+ the subquery can be treated like a standard table with attributes accessible as c."
   ]
  },
  {
   "cell_type": "code",
   "execution_count": null,
   "metadata": {
    "ExecuteTime": {
     "end_time": "2019-07-15T20:46:36.437095Z",
     "start_time": "2019-07-15T20:46:36.431525Z"
    }
   },
   "outputs": [],
   "source": [
    "from sqlalchemy import func\n",
    "sub_query = session.query(Address.user_id, func.count('*').label('address_count')).\\\n",
    "    group_by(Address.user_id).subquery()\n",
    "sub_query.c.address_count"
   ]
  },
  {
   "cell_type": "code",
   "execution_count": null,
   "metadata": {
    "ExecuteTime": {
     "end_time": "2019-07-15T20:47:26.768112Z",
     "start_time": "2019-07-15T20:47:26.758992Z"
    }
   },
   "outputs": [],
   "source": [
    "session.query(User, sub_query.c.address_count).\\\n",
    "    outerjoin(sub_query, User.id == sub_query.c.user_id).\\\n",
    "    order_by(User.id).all()"
   ]
  },
  {
   "cell_type": "markdown",
   "metadata": {},
   "source": [
    "### Exists"
   ]
  },
  {
   "cell_type": "code",
   "execution_count": null,
   "metadata": {
    "ExecuteTime": {
     "end_time": "2019-07-15T20:48:35.407552Z",
     "start_time": "2019-07-15T20:48:35.394813Z"
    }
   },
   "outputs": [],
   "source": [
    "from sqlalchemy.sql import exists\n",
    "existing = exists().where(Address.user_id != User.id)\n",
    "session.query(User.name).filter(existing).all()"
   ]
  },
  {
   "cell_type": "markdown",
   "metadata": {},
   "source": [
    "+ EXISTS can be expresses as any(condition) in SQLalchemy"
   ]
  },
  {
   "cell_type": "code",
   "execution_count": null,
   "metadata": {
    "ExecuteTime": {
     "end_time": "2019-07-15T20:50:06.302121Z",
     "start_time": "2019-07-15T20:50:06.294769Z"
    }
   },
   "outputs": [],
   "source": [
    "session.query(User.name).filter(~User.addresses.any()).all()"
   ]
  },
  {
   "cell_type": "code",
   "execution_count": null,
   "metadata": {
    "ExecuteTime": {
     "end_time": "2019-07-15T20:50:12.776070Z",
     "start_time": "2019-07-15T20:50:12.763153Z"
    }
   },
   "outputs": [],
   "source": [
    "session.query(User.name).filter(User.addresses.any(Address.email_address.like('%google%'))).all()"
   ]
  },
  {
   "cell_type": "markdown",
   "metadata": {},
   "source": [
    "### Eager Loading\n",
    "+ if you want to load associated data in a single transaction, you can use selectinload\n",
    "+ in selectinload, the related data is loaded in a separate select call"
   ]
  },
  {
   "cell_type": "code",
   "execution_count": null,
   "metadata": {
    "ExecuteTime": {
     "end_time": "2019-07-15T20:51:07.802479Z",
     "start_time": "2019-07-15T20:51:07.791203Z"
    }
   },
   "outputs": [],
   "source": [
    "from sqlalchemy.orm import selectinload\n",
    "session.query(User).options(selectinload(User.addresses)).\\\n",
    "    filter_by(name='jack').first().addresses"
   ]
  },
  {
   "cell_type": "markdown",
   "metadata": {
    "ExecuteTime": {
     "end_time": "2019-05-12T11:52:01.042196Z",
     "start_time": "2019-05-12T11:52:01.038432Z"
    }
   },
   "source": [
    "+ in joinedload, the data is joined in one select call"
   ]
  },
  {
   "cell_type": "code",
   "execution_count": null,
   "metadata": {
    "ExecuteTime": {
     "end_time": "2019-07-15T20:52:20.578247Z",
     "start_time": "2019-07-15T20:52:20.568476Z"
    }
   },
   "outputs": [],
   "source": [
    "from sqlalchemy.orm import joinedload\n",
    "session.query(User).options(joinedload(User.addresses)).\\\n",
    "    filter_by(name='jack').first().addresses"
   ]
  },
  {
   "cell_type": "markdown",
   "metadata": {},
   "source": [
    "+ contains_eager preloads the associated data to be used in chained filters\n",
    "+ in example, Address.user is eager_loaded to allow filtering with User.name"
   ]
  },
  {
   "cell_type": "code",
   "execution_count": null,
   "metadata": {
    "ExecuteTime": {
     "end_time": "2019-07-15T20:53:25.603331Z",
     "start_time": "2019-07-15T20:53:25.594737Z"
    }
   },
   "outputs": [],
   "source": [
    "from sqlalchemy.orm import contains_eager\n",
    "session.query(Address).join(Address.user).\\\n",
    "    filter(User.name=='jack').\\\n",
    "    options(contains_eager(Address.user)).all()"
   ]
  },
  {
   "cell_type": "markdown",
   "metadata": {},
   "source": [
    "### Deleting\n",
    "+ without cascading, data related to the deleted data will still be available"
   ]
  },
  {
   "cell_type": "code",
   "execution_count": null,
   "metadata": {
    "ExecuteTime": {
     "end_time": "2019-05-26T12:26:31.964449Z",
     "start_time": "2019-05-26T12:26:31.954635Z"
    }
   },
   "outputs": [],
   "source": [
    "session.delete(jack)\n",
    "session.query(Address).filter(Address.email_address.in_(['jack@google.com', 'j25@yahoo.com'])).count()"
   ]
  },
  {
   "cell_type": "markdown",
   "metadata": {},
   "source": [
    "+ with cascading, linked data is deleted as well\n",
    "+ here, we reset and declare the User class with cascading"
   ]
  },
  {
   "cell_type": "code",
   "execution_count": null,
   "metadata": {
    "ExecuteTime": {
     "end_time": "2019-07-15T20:56:05.533760Z",
     "start_time": "2019-07-15T20:56:05.517330Z"
    }
   },
   "outputs": [],
   "source": [
    "session.close()\n",
    "Base = declarative_base()\n",
    "\n",
    "class User(Base):\n",
    "    __tablename__ = 'users'\n",
    "\n",
    "    id = Column(Integer, primary_key=True)\n",
    "     \n",
    "    name = Column(String)\n",
    "    fullname = Column(String)\n",
    "    nickname = Column(String)\n",
    "    addresses = relationship(\"Address\", back_populates='user',\n",
    "        cascade=\"all, delete, delete-orphan\")\n",
    "\n",
    "    def __repr__(self):\n",
    "        return \"<User(name='%s', fullname='%s', nickname='%s')>\" % (\n",
    "            self.name, self.fullname, self.nickname)\n",
    "    \n",
    "    \n",
    "class Address(Base):\n",
    "    __tablename__ = 'addresses'\n",
    "    id = Column(Integer, primary_key=True)\n",
    "    email_address = Column(String, nullable=False)\n",
    "    user_id = Column(Integer, ForeignKey('users.id'))\n",
    "    user = relationship(\"User\", back_populates=\"addresses\")\n",
    "\n",
    "    def __repr__(self):\n",
    "        return \"<Address(email_address='%s')>\" % self.email_address\n",
    "    \n",
    "Base.metadata.create_all(engine)\n"
   ]
  },
  {
   "cell_type": "markdown",
   "metadata": {},
   "source": [
    "+ with cascading activate, all associated data will be removed with the object"
   ]
  },
  {
   "cell_type": "code",
   "execution_count": null,
   "metadata": {
    "ExecuteTime": {
     "end_time": "2019-07-15T20:56:48.979336Z",
     "start_time": "2019-07-15T20:56:48.966997Z"
    }
   },
   "outputs": [],
   "source": [
    "session.delete(jack)\n",
    "session.query(Address).filter(Address.email_address.in_(['jack@google.com', 'j25@yahoo.com'])).count()"
   ]
  },
  {
   "cell_type": "markdown",
   "metadata": {},
   "source": [
    "### Many to Many Relationship\n",
    "+ for many2many, you can use an association table to combine both related tables"
   ]
  },
  {
   "cell_type": "code",
   "execution_count": null,
   "metadata": {
    "ExecuteTime": {
     "end_time": "2019-07-15T21:01:40.651896Z",
     "start_time": "2019-07-15T21:01:40.647979Z"
    }
   },
   "outputs": [],
   "source": [
    "from sqlalchemy import Table, Text\n",
    "# association table\n",
    "post_keywords = Table('post_keywords', Base.metadata,\\\n",
    "            Column('post_id', ForeignKey('posts.id'), primary_key=True),\\\n",
    "            Column('keyword_id', ForeignKey('keywords.id'), primary_key=True))"
   ]
  },
  {
   "cell_type": "code",
   "execution_count": null,
   "metadata": {
    "ExecuteTime": {
     "end_time": "2019-07-15T21:01:43.308496Z",
     "start_time": "2019-07-15T21:01:43.298023Z"
    }
   },
   "outputs": [],
   "source": [
    "class BlogPost(Base):\n",
    "    __tablename__ = 'posts'\n",
    "    \n",
    "    id = Column(Integer, primary_key=True)\n",
    "    user_id = Column(Integer, ForeignKey('users.id'))\n",
    "    headline = Column(String(255), nullable=False)\n",
    "    body = Column(Text)\n",
    "    \n",
    "    # here the relationship via the association table is created\n",
    "    keywords = relationship('Keyword', secondary=post_keywords, back_populates='posts')\n",
    "    \n",
    "    # init is optional in SQLalchemy\n",
    "    def __init__(self, headline, body, author):\n",
    "        self.author = author\n",
    "        self.headline = headline\n",
    "        self.body = body\n",
    "        \n",
    "    def __repr__(self):\n",
    "        return f\"BlogPost({self.headline}, {self.body}, {self.author})\"\n",
    "    \n",
    "class Keyword(Base):\n",
    "    __tablename__ = 'keywords'\n",
    "    \n",
    "    id = Column(Integer, primary_key=True)\n",
    "    keyword = Column(String(50), nullable=False, unique=True)\n",
    "    posts = relationship('BlogPost', secondary=post_keywords, back_populates='keywords')\n",
    "    \n",
    "    # init is optional in SQLalchemy\n",
    "    def __init__(self, keyword):\n",
    "        self.keyword = keyword\n",
    "    "
   ]
  },
  {
   "cell_type": "code",
   "execution_count": null,
   "metadata": {
    "ExecuteTime": {
     "end_time": "2019-07-15T21:01:46.248492Z",
     "start_time": "2019-07-15T21:01:46.245170Z"
    }
   },
   "outputs": [],
   "source": [
    "BlogPost.author = relationship(User, back_populates='posts')\n",
    "User.posts = relationship(BlogPost, back_populates=\"author\", lazy=\"dynamic\")"
   ]
  },
  {
   "cell_type": "code",
   "execution_count": null,
   "metadata": {
    "ExecuteTime": {
     "end_time": "2019-07-15T21:01:48.219393Z",
     "start_time": "2019-07-15T21:01:48.177658Z"
    }
   },
   "outputs": [],
   "source": [
    "Base.metadata.create_all(engine)"
   ]
  },
  {
   "cell_type": "code",
   "execution_count": null,
   "metadata": {
    "ExecuteTime": {
     "end_time": "2019-07-15T21:02:06.440175Z",
     "start_time": "2019-07-15T21:02:06.433221Z"
    }
   },
   "outputs": [],
   "source": [
    "wendy = session.query(User).filter_by(name='wendy').first()\n",
    "post = BlogPost(\"Wendy's Blog Post\", \"This is a test\", wendy)\n",
    "session.add(post)"
   ]
  },
  {
   "cell_type": "code",
   "execution_count": null,
   "metadata": {
    "ExecuteTime": {
     "end_time": "2019-07-15T21:02:10.455657Z",
     "start_time": "2019-07-15T21:02:10.452465Z"
    }
   },
   "outputs": [],
   "source": [
    "post.keywords.append(Keyword('wendy'))\n",
    "post.keywords.append(Keyword('firstpost'))"
   ]
  },
  {
   "cell_type": "code",
   "execution_count": null,
   "metadata": {
    "ExecuteTime": {
     "end_time": "2019-07-15T21:02:11.689601Z",
     "start_time": "2019-07-15T21:02:11.672262Z"
    }
   },
   "outputs": [],
   "source": [
    "session.commit()"
   ]
  },
  {
   "cell_type": "code",
   "execution_count": null,
   "metadata": {
    "ExecuteTime": {
     "end_time": "2019-07-15T21:02:16.022957Z",
     "start_time": "2019-07-15T21:02:16.009399Z"
    }
   },
   "outputs": [],
   "source": [
    "session.query(BlogPost).filter(BlogPost.keywords.any(keyword='firstpost')).all()"
   ]
  },
  {
   "cell_type": "code",
   "execution_count": null,
   "metadata": {
    "ExecuteTime": {
     "end_time": "2019-07-15T21:02:26.723820Z",
     "start_time": "2019-07-15T21:02:26.715757Z"
    }
   },
   "outputs": [],
   "source": [
    "session.query(BlogPost).filter(BlogPost.author==wendy).\\\n",
    "filter(BlogPost.keywords.any(keyword='firstpost')).all()"
   ]
  },
  {
   "cell_type": "code",
   "execution_count": null,
   "metadata": {},
   "outputs": [],
   "source": []
  },
  {
   "cell_type": "code",
   "execution_count": null,
   "metadata": {},
   "outputs": [],
   "source": []
  },
  {
   "cell_type": "markdown",
   "metadata": {},
   "source": [
    "# Pandas with SQLAlchemy"
   ]
  },
  {
   "cell_type": "code",
   "execution_count": null,
   "metadata": {
    "ExecuteTime": {
     "end_time": "2019-07-15T21:02:34.167591Z",
     "start_time": "2019-07-15T21:02:34.091953Z"
    }
   },
   "outputs": [],
   "source": [
    "data = pd.read_sql_table('users', engine)"
   ]
  },
  {
   "cell_type": "code",
   "execution_count": null,
   "metadata": {
    "ExecuteTime": {
     "end_time": "2019-07-15T21:03:04.607489Z",
     "start_time": "2019-07-15T21:03:04.597308Z"
    }
   },
   "outputs": [],
   "source": [
    "data"
   ]
  },
  {
   "cell_type": "code",
   "execution_count": null,
   "metadata": {
    "ExecuteTime": {
     "end_time": "2019-07-15T21:04:09.670149Z",
     "start_time": "2019-07-15T21:04:09.666367Z"
    }
   },
   "outputs": [],
   "source": [
    "for d in data:\n",
    "    print(d)"
   ]
  },
  {
   "cell_type": "code",
   "execution_count": null,
   "metadata": {},
   "outputs": [],
   "source": []
  }
 ],
 "metadata": {
  "kernelspec": {
   "display_name": "Python 3",
   "language": "python",
   "name": "python3"
  },
  "language_info": {
   "codemirror_mode": {
    "name": "ipython",
    "version": 3
   },
   "file_extension": ".py",
   "mimetype": "text/x-python",
   "name": "python",
   "nbconvert_exporter": "python",
   "pygments_lexer": "ipython3",
   "version": "3.7.3"
  },
  "varInspector": {
   "cols": {
    "lenName": 16,
    "lenType": 16,
    "lenVar": 40
   },
   "kernels_config": {
    "python": {
     "delete_cmd_postfix": "",
     "delete_cmd_prefix": "del ",
     "library": "var_list.py",
     "varRefreshCmd": "print(var_dic_list())"
    },
    "r": {
     "delete_cmd_postfix": ") ",
     "delete_cmd_prefix": "rm(",
     "library": "var_list.r",
     "varRefreshCmd": "cat(var_dic_list()) "
    }
   },
   "types_to_exclude": [
    "module",
    "function",
    "builtin_function_or_method",
    "instance",
    "_Feature"
   ],
   "window_display": false
  }
 },
 "nbformat": 4,
 "nbformat_minor": 2
}
