{
 "cells": [
  {
   "cell_type": "code",
   "execution_count": 1,
   "metadata": {
    "ExecuteTime": {
     "end_time": "2019-05-28T07:38:26.763607Z",
     "start_time": "2019-05-28T07:38:26.601276Z"
    }
   },
   "outputs": [
    {
     "data": {
      "text/plain": [
       "img #                   1\n",
       "Wer                 Clara\n",
       "Hilfe von             NaN\n",
       "Title              Muster\n",
       "Key                 Kunst\n",
       "Datum              Aug 18\n",
       "Datum unbekannt       NaN\n",
       "Note                  NaN\n",
       "Set                   NaN\n",
       "Name: 0, dtype: object"
      ]
     },
     "execution_count": 1,
     "metadata": {},
     "output_type": "execute_result"
    }
   ],
   "source": [
    "import pandas\n",
    "import os\n",
    "import sys\n",
    "import sqlalchemy\n",
    "xls_path = os.path.join(os.environ['HOME'], 'Dropbox/Icke/Bilder/ClaraPix/ClaraPics.xlsx')\n",
    "pic_table = pandas.read_excel(xls_path, dtype={'Datum':str})\n",
    "pic_table['Key'] = pic_table['Key'].str.replace(r' ?, ', ',').str.replace(' ',',').str.replace(',&,',' & ').str.replace('Magische,Tiere', 'Magische Tiere')\n",
    "pic_table.iloc[0]"
   ]
  },
  {
   "cell_type": "markdown",
   "metadata": {},
   "source": [
    "# create the engine for connection to the db"
   ]
  },
  {
   "cell_type": "code",
   "execution_count": 2,
   "metadata": {
    "ExecuteTime": {
     "end_time": "2019-05-28T07:38:27.879094Z",
     "start_time": "2019-05-28T07:38:27.790562Z"
    }
   },
   "outputs": [
    {
     "data": {
      "text/plain": [
       "<sqlalchemy.engine.base.Connection at 0x11262f1d0>"
      ]
     },
     "execution_count": 2,
     "metadata": {},
     "output_type": "execute_result"
    }
   ],
   "source": [
    "from sqlalchemy import Column, ForeignKey, Integer, String, Date, Boolean, Table\n",
    "from sqlalchemy.ext.declarative import declarative_base\n",
    "from sqlalchemy.orm import relationship\n",
    "from sqlalchemy import create_engine\n",
    "\n",
    "Base = declarative_base()\n",
    "engine = create_engine('postgresql://mahtin@localhost:5432/claragallery', echo=False)\n",
    "engine.connect()"
   ]
  },
  {
   "cell_type": "markdown",
   "metadata": {},
   "source": [
    "## define tables and create them in PostgreSQL"
   ]
  },
  {
   "cell_type": "code",
   "execution_count": 3,
   "metadata": {
    "ExecuteTime": {
     "end_time": "2019-05-28T07:38:28.959705Z",
     "start_time": "2019-05-28T07:38:28.909639Z"
    }
   },
   "outputs": [],
   "source": [
    "import os\n",
    "img_path = 'Dropbox/Icke/Bilder/ClaraPix'\n",
    "\n",
    "    \n",
    "image_keywords_association = Table('association', Base.metadata, \n",
    "                                   Column('img_id', Integer, ForeignKey('images.id')),\n",
    "                                   Column('key_id', Integer, ForeignKey('keywords.id')))\n",
    "\n",
    "\n",
    "class Image(Base):\n",
    "    __tablename__ = 'images'\n",
    "    id = Column(Integer, primary_key=True)\n",
    "    title = Column(String(90))\n",
    "    path = Column(String(80), nullable=False)\n",
    "    date = Column(Date(), nullable=False)\n",
    "    date_assumed = Column(Boolean(), nullable=True)\n",
    "    note = Column(String(120))\n",
    "    help = Column(String(80))\n",
    "    stars = Column(Integer())\n",
    "    \n",
    "    col_id = Column(Integer, ForeignKey('collections.id'))\n",
    "    collection = relationship(\"Collection\", back_populates='images')\n",
    "    \n",
    "    user_id = Column(Integer, ForeignKey('users.id'))\n",
    "    artist = relationship('User', back_populates='images')\n",
    "    \n",
    "    key_id = Column(Integer, ForeignKey('keywords.id'))\n",
    "    keywords = relationship('Keyword', secondary=image_keywords_association, backref='images')\n",
    "    \n",
    "    def __repr__(self):\n",
    "        return f'<Image(\"{self.title}\" by {self.artist.name}, ~/{os.path.join(img_path, self.path)})>'\n",
    "\n",
    "    \n",
    "class Collection(Base):\n",
    "    __tablename__ = 'collections'\n",
    "    id = Column(Integer, primary_key=True)\n",
    "    name = Column(String(80), nullable=False)\n",
    "    images = relationship('Image', back_populates='collection')\n",
    "\n",
    "    def __repr__(self):\n",
    "        return f\"<Collection(name:{self.name}, images:{len(self.images)})>\"\n",
    "\n",
    "class User(Base):\n",
    "    __tablename__ = 'users'\n",
    "    id = Column(Integer, primary_key=True)\n",
    "    name = Column(String(80), nullable=False)\n",
    "    types = Column(String(50))\n",
    "    age = Column(Integer)\n",
    "    images = relationship('Image', back_populates='artist')\n",
    "   \n",
    "    \n",
    "    def __repr__(self):\n",
    "        return f\"<User(name:{self.name}, age:{self.age}, images:{len(self.images)})>\"\n",
    "    \n",
    "    \n",
    "class Keyword(Base):\n",
    "    __tablename__ = 'keywords'\n",
    "    id = Column(Integer, primary_key=True)\n",
    "    name = Column(String(50), nullable=False)\n",
    "    \n",
    "    def __repr__(self):\n",
    "        return f\"<Keyword(name={self.name}, images:{len(self.images)})>\"\n",
    "\n",
    "    \n",
    "Base.metadata.create_all(engine)"
   ]
  },
  {
   "cell_type": "markdown",
   "metadata": {},
   "source": [
    "## add basic data to the database in a session"
   ]
  },
  {
   "cell_type": "code",
   "execution_count": 4,
   "metadata": {
    "ExecuteTime": {
     "end_time": "2019-05-28T07:38:30.194491Z",
     "start_time": "2019-05-28T07:38:30.191002Z"
    }
   },
   "outputs": [],
   "source": [
    "from sqlalchemy.orm import sessionmaker\n",
    "Base.metadata.bind = engine\n",
    "DBSession = sessionmaker(bind=engine)\n",
    "session = DBSession()"
   ]
  },
  {
   "cell_type": "code",
   "execution_count": 5,
   "metadata": {
    "ExecuteTime": {
     "end_time": "2019-05-28T07:38:31.993978Z",
     "start_time": "2019-05-28T07:38:31.977408Z"
    }
   },
   "outputs": [],
   "source": [
    "from datetime import date as dt\n",
    "\n",
    "months = ['jan', 'feb', 'mär', 'apr', 'mai', 'jun', 'jul', 'aug', 'sep', 'okt', 'nov', 'dez']\n",
    "month_dict = {month[1]:month[0] + 1 for month in enumerate(months)}\n",
    "\n",
    "def str2date(string):\n",
    "    if pd.isnull(string) or string == '?':\n",
    "        return dt(2018, 1,1)\n",
    "    if '.' in string:\n",
    "        data = [int(num) for num in string.split('.')]\n",
    "        return dt(data[2], data[1], data[0])\n",
    "        \n",
    "    date = string.split(' ')\n",
    "    year = int(date[-1])\n",
    "    year = 2000 + year if (year < 2000) else year\n",
    "    month = date[0][:3].lower() if (len(date) - 1) else 'jan'\n",
    "    month = month_dict[month] if month in month_dict.keys() else 1\n",
    "    return dt(year, month, 1)\n",
    "\n",
    "def add2db(row):\n",
    "    title = row['Title']\n",
    "    path = f\"Clara{str(row['img # ']).zfill(4)}.jpg\"\n",
    "    name = row['Wer'] if pd.notnull(row['Wer']) else 'Clara'\n",
    "    stars = 0\n",
    "    \n",
    "    artist = session.query(User).filter_by(name = name).first()\n",
    "    if not artist:\n",
    "        artist = User(name=name, age=6)\n",
    "    image = Image(title=title, path=path, artist=artist, note=row['Note'], date=str2date(row['Datum']))\n",
    "\n",
    "    if pd.notnull(row['Set']):\n",
    "        collection = session.query(Collection).filter_by(name = row['Set']).first()\n",
    "        if not collection:\n",
    "            collection = Collection(name=row['Set'])\n",
    "        image.collection = collection\n",
    "        \n",
    "    def get_key(key):\n",
    "        keyword = session.query(Keyword).filter_by(name = key.strip()).first()\n",
    "        keyword = keyword if keyword else Keyword(name=key.strip())\n",
    "        return keyword\n",
    "    \n",
    "    if pd.notnull(row['Key']):\n",
    "        image.keywords = [get_key(key) for key in row['Key'].split(',')]\n",
    "    if pd.notnull(row['Hilfe von']):\n",
    "        image.help = row['Hilfe von']\n",
    "    date_assumed = row['Datum unbekannt'] in ['x',''] or (row['Datum'] in ['', '?'])\n",
    "    image.date_assumed = date_assumed\n",
    "    session.add(image)"
   ]
  },
  {
   "cell_type": "code",
   "execution_count": 6,
   "metadata": {
    "ExecuteTime": {
     "end_time": "2019-05-28T07:38:35.673341Z",
     "start_time": "2019-05-28T07:38:33.683283Z"
    }
   },
   "outputs": [
    {
     "data": {
      "text/plain": [
       "0      None\n",
       "1      None\n",
       "2      None\n",
       "3      None\n",
       "4      None\n",
       "5      None\n",
       "6      None\n",
       "7      None\n",
       "8      None\n",
       "9      None\n",
       "10     None\n",
       "11     None\n",
       "12     None\n",
       "13     None\n",
       "14     None\n",
       "15     None\n",
       "16     None\n",
       "17     None\n",
       "18     None\n",
       "19     None\n",
       "20     None\n",
       "21     None\n",
       "22     None\n",
       "23     None\n",
       "24     None\n",
       "       ... \n",
       "414    None\n",
       "415    None\n",
       "416    None\n",
       "417    None\n",
       "418    None\n",
       "419    None\n",
       "420    None\n",
       "421    None\n",
       "422    None\n",
       "423    None\n",
       "424    None\n",
       "425    None\n",
       "426    None\n",
       "427    None\n",
       "428    None\n",
       "429    None\n",
       "430    None\n",
       "431    None\n",
       "432    None\n",
       "433    None\n",
       "434    None\n",
       "435    None\n",
       "436    None\n",
       "437    None\n",
       "438    None\n",
       "Length: 439, dtype: object"
      ]
     },
     "execution_count": 6,
     "metadata": {},
     "output_type": "execute_result"
    }
   ],
   "source": [
    "session.rollback()\n",
    "pic_table.apply(add2db, axis=1)\n",
    "session.commit()"
   ]
  },
  {
   "cell_type": "code",
   "execution_count": 62,
   "metadata": {
    "ExecuteTime": {
     "end_time": "2019-06-04T03:54:54.052781Z",
     "start_time": "2019-06-04T03:54:54.038264Z"
    }
   },
   "outputs": [
    {
     "data": {
      "text/plain": [
       "[('Kunst'),\n",
       " ('Haus'),\n",
       " ('Sommer'),\n",
       " ('Schule'),\n",
       " ('Ninjago'),\n",
       " ('Schlange'),\n",
       " ('Herz'),\n",
       " ('Tanz'),\n",
       " ('Clara'),\n",
       " ('Schlangen'),\n",
       " ('Familie'),\n",
       " ('Landschaft'),\n",
       " ('Dino'),\n",
       " ('Auto'),\n",
       " ('Schmetterling'),\n",
       " ('Anna & Elsa'),\n",
       " ('Planeten'),\n",
       " ('Einhorn'),\n",
       " ('Mädchen'),\n",
       " ('Inventar'),\n",
       " ('Pippi'),\n",
       " ('Grusel'),\n",
       " ('Freunde'),\n",
       " ('Tiere'),\n",
       " ('Maulwurf'),\n",
       " ('Papa'),\n",
       " ('Märchen'),\n",
       " ('Schema'),\n",
       " ('Sticker'),\n",
       " ('Pegasus'),\n",
       " ('Schwan'),\n",
       " ('Dreieck'),\n",
       " ('Muster'),\n",
       " ('Abdruck'),\n",
       " ('Weihnachten'),\n",
       " ('Monster'),\n",
       " ('Regenbogen'),\n",
       " ('Affe'),\n",
       " ('Elsa'),\n",
       " ('Baum'),\n",
       " ('Meer'),\n",
       " ('Krokodil'),\n",
       " (''),\n",
       " ('Spinne'),\n",
       " ('Blut'),\n",
       " ('Zeitmaschine'),\n",
       " ('Stern'),\n",
       " ('Wiese'),\n",
       " ('Dinos'),\n",
       " ('Blumen'),\n",
       " ('Skizze'),\n",
       " ('Collage'),\n",
       " ('Magische Tiere'),\n",
       " ('Tier'),\n",
       " ('Voldemort'),\n",
       " ('Herbst'),\n",
       " ('Natur'),\n",
       " ('Drachen'),\n",
       " ('Essen'),\n",
       " ('Kleid'),\n",
       " ('Pferde'),\n",
       " ('Wasser'),\n",
       " ('Ostern'),\n",
       " ('Prinzessin'),\n",
       " ('Stadt'),\n",
       " ('Pferd'),\n",
       " ('Kuscheltier'),\n",
       " ('Feiern'),\n",
       " ('Stillleben'),\n",
       " ('Tusche'),\n",
       " ('Feen'),\n",
       " ('Urzeit'),\n",
       " ('Schild'),\n",
       " ('Jahreszeiten'),\n",
       " ('Winter'),\n",
       " ('Close-Up'),\n",
       " ('Dinotrux')]"
      ]
     },
     "execution_count": 62,
     "metadata": {},
     "output_type": "execute_result"
    }
   ],
   "source": [
    "session.query(Keyword.name).all()"
   ]
  },
  {
   "cell_type": "code",
   "execution_count": 60,
   "metadata": {
    "ExecuteTime": {
     "end_time": "2019-06-04T03:53:06.311417Z",
     "start_time": "2019-06-04T03:53:06.298838Z"
    }
   },
   "outputs": [
    {
     "data": {
      "text/plain": [
       "[{'title': 'Seite 47 - T-Rex unter Palmen',\n",
       "  'artist': 'Clara',\n",
       "  'path': 'Dropbox/Icke/Bilder/ClaraPix/Clara0238.jpg'},\n",
       " {'title': 'Spinosaurier',\n",
       "  'artist': 'Clara',\n",
       "  'path': 'Dropbox/Icke/Bilder/ClaraPix/Clara0245.jpg'},\n",
       " {'title': 'Archeopteryx',\n",
       "  'artist': 'Clara',\n",
       "  'path': 'Dropbox/Icke/Bilder/ClaraPix/Clara0250.jpg'},\n",
       " {'title': 'Triceratops',\n",
       "  'artist': 'Clara',\n",
       "  'path': 'Dropbox/Icke/Bilder/ClaraPix/Clara0256.jpg'},\n",
       " {'title': 'Dino mit Kamm',\n",
       "  'artist': 'Clara',\n",
       "  'path': 'Dropbox/Icke/Bilder/ClaraPix/Clara0298.jpg'},\n",
       " {'title': 'Steindino',\n",
       "  'artist': 'Clara',\n",
       "  'path': 'Dropbox/Icke/Bilder/ClaraPix/Clara0299.jpg'},\n",
       " {'title': 'Wasserdino',\n",
       "  'artist': 'Clara',\n",
       "  'path': 'Dropbox/Icke/Bilder/ClaraPix/Clara0300.jpg'},\n",
       " {'title': 'Blitzdino',\n",
       "  'artist': 'Clara',\n",
       "  'path': 'Dropbox/Icke/Bilder/ClaraPix/Clara0301.jpg'},\n",
       " {'title': 'Diamant-Dino',\n",
       "  'artist': 'Clara',\n",
       "  'path': 'Dropbox/Icke/Bilder/ClaraPix/Clara0302.jpg'},\n",
       " {'title': 'Ankylo-Stein-Dino',\n",
       "  'artist': 'Clara',\n",
       "  'path': 'Dropbox/Icke/Bilder/ClaraPix/Clara0303.jpg'},\n",
       " {'title': 'Bunter Dino',\n",
       "  'artist': 'Clara',\n",
       "  'path': 'Dropbox/Icke/Bilder/ClaraPix/Clara0304.jpg'},\n",
       " {'title': 'Baum-Dino',\n",
       "  'artist': 'Clara',\n",
       "  'path': 'Dropbox/Icke/Bilder/ClaraPix/Clara0305.jpg'},\n",
       " {'title': 'Stachel-Dino',\n",
       "  'artist': 'Clara',\n",
       "  'path': 'Dropbox/Icke/Bilder/ClaraPix/Clara0306.jpg'},\n",
       " {'title': 'grüner Theropode',\n",
       "  'artist': 'Clara',\n",
       "  'path': 'Dropbox/Icke/Bilder/ClaraPix/Clara0314.jpg'},\n",
       " {'title': 'König der Dinos',\n",
       "  'artist': 'Clara',\n",
       "  'path': 'Dropbox/Icke/Bilder/ClaraPix/Clara0355.jpg'},\n",
       " {'title': 'Argentinosaurier vor Vulkan',\n",
       "  'artist': 'Clara',\n",
       "  'path': 'Dropbox/Icke/Bilder/ClaraPix/Clara0363.jpg'},\n",
       " {'title': 'T-Rex',\n",
       "  'artist': 'Clara',\n",
       "  'path': 'Dropbox/Icke/Bilder/ClaraPix/Clara0375.jpg'},\n",
       " {'title': 'Triceratops mit Wäscheleine',\n",
       "  'artist': 'Clara',\n",
       "  'path': 'Dropbox/Icke/Bilder/ClaraPix/Clara0384.jpg'},\n",
       " {'title': 'Clara reitet auf Pteranodon',\n",
       "  'artist': 'Clara',\n",
       "  'path': 'Dropbox/Icke/Bilder/ClaraPix/Clara0400.jpg'},\n",
       " {'title': 'Pia auf Pteranodon',\n",
       "  'artist': 'Clara',\n",
       "  'path': 'Dropbox/Icke/Bilder/ClaraPix/Clara0404.jpg'},\n",
       " {'title': 'Triceratops',\n",
       "  'artist': 'Clara',\n",
       "  'path': 'Dropbox/Icke/Bilder/ClaraPix/Clara0405.jpg'},\n",
       " {'title': 'Quetzalcoatlus',\n",
       "  'artist': 'Clara',\n",
       "  'path': 'Dropbox/Icke/Bilder/ClaraPix/Clara0406.jpg'},\n",
       " {'title': 'Stego im Winter',\n",
       "  'artist': 'Clara',\n",
       "  'path': 'Dropbox/Icke/Bilder/ClaraPix/Clara0415.jpg'},\n",
       " {'title': 'Clara reitet einen T-Rex',\n",
       "  'artist': 'Clara',\n",
       "  'path': 'Dropbox/Icke/Bilder/ClaraPix/Clara0424.jpg'},\n",
       " {'title': 'Einhorn und Pteranodon',\n",
       "  'artist': 'Clara',\n",
       "  'path': 'Dropbox/Icke/Bilder/ClaraPix/Clara0428.jpg'}]"
      ]
     },
     "execution_count": 60,
     "metadata": {},
     "output_type": "execute_result"
    }
   ],
   "source": [
    "keyset = ['Urzeit', 'Dinos']\n",
    "    \n",
    "session.query(Image).filter('')"
   ]
  },
  {
   "cell_type": "code",
   "execution_count": null,
   "metadata": {},
   "outputs": [],
   "source": []
  },
  {
   "cell_type": "code",
   "execution_count": null,
   "metadata": {},
   "outputs": [],
   "source": []
  }
 ],
 "metadata": {
  "kernelspec": {
   "display_name": "Python 3",
   "language": "python",
   "name": "python3"
  },
  "language_info": {
   "codemirror_mode": {
    "name": "ipython",
    "version": 3
   },
   "file_extension": ".py",
   "mimetype": "text/x-python",
   "name": "python",
   "nbconvert_exporter": "python",
   "pygments_lexer": "ipython3",
   "version": "3.7.3"
  },
  "varInspector": {
   "cols": {
    "lenName": 16,
    "lenType": 16,
    "lenVar": 40
   },
   "kernels_config": {
    "python": {
     "delete_cmd_postfix": "",
     "delete_cmd_prefix": "del ",
     "library": "var_list.py",
     "varRefreshCmd": "print(var_dic_list())"
    },
    "r": {
     "delete_cmd_postfix": ") ",
     "delete_cmd_prefix": "rm(",
     "library": "var_list.r",
     "varRefreshCmd": "cat(var_dic_list()) "
    }
   },
   "types_to_exclude": [
    "module",
    "function",
    "builtin_function_or_method",
    "instance",
    "_Feature"
   ],
   "window_display": false
  }
 },
 "nbformat": 4,
 "nbformat_minor": 2
}
