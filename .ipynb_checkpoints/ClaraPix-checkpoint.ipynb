{
 "cells": [
  {
   "cell_type": "code",
   "execution_count": 1,
   "metadata": {
    "ExecuteTime": {
     "end_time": "2019-07-15T21:05:43.402580Z",
     "start_time": "2019-07-15T21:05:43.287011Z"
    }
   },
   "outputs": [],
   "source": [
    "import pandas\n",
    "import os\n",
    "import sys\n",
    "import re\n",
    "import sqlalchemy"
   ]
  },
  {
   "cell_type": "markdown",
   "metadata": {},
   "source": [
    "### import the picture table"
   ]
  },
  {
   "cell_type": "code",
   "execution_count": 2,
   "metadata": {
    "ExecuteTime": {
     "end_time": "2019-07-15T21:05:44.450662Z",
     "start_time": "2019-07-15T21:05:44.370641Z"
    }
   },
   "outputs": [
    {
     "data": {
      "text/plain": [
       "img #                   1\n",
       "Wer                 Clara\n",
       "Hilfe von             NaN\n",
       "Title              Muster\n",
       "Key                 Kunst\n",
       "Datum              Aug 18\n",
       "Datum unbekannt       NaN\n",
       "Note                  NaN\n",
       "Set                   NaN\n",
       "Name: 0, dtype: object"
      ]
     },
     "execution_count": 2,
     "metadata": {},
     "output_type": "execute_result"
    }
   ],
   "source": [
    "# get the path to the excel file\n",
    "xls_path = os.path.join(os.environ['HOME'], 'Dropbox/Icke/Bilder/ClaraPix/ClaraPics.xlsx')\n",
    "pic_table = pandas.read_excel(xls_path, dtype={'Datum':str})\n",
    "pic_table['Key'] = pic_table['Key'].str.replace(r' ?, ', ',').str.replace(' ',',').str.replace(',&,',' & ').str.replace('Magische,Tiere', 'Magische Tiere')\n",
    "pic_table.iloc[0]"
   ]
  },
  {
   "cell_type": "markdown",
   "metadata": {},
   "source": [
    "# create the engine for connection to the db"
   ]
  },
  {
   "cell_type": "code",
   "execution_count": 3,
   "metadata": {
    "ExecuteTime": {
     "end_time": "2019-07-15T21:05:54.338475Z",
     "start_time": "2019-07-15T21:05:54.240978Z"
    }
   },
   "outputs": [
    {
     "data": {
      "text/plain": [
       "<sqlalchemy.engine.base.Connection at 0x116e516d8>"
      ]
     },
     "execution_count": 3,
     "metadata": {},
     "output_type": "execute_result"
    }
   ],
   "source": [
    "from sqlalchemy import Column, ForeignKey, Integer, String, Date, Boolean, Table\n",
    "from sqlalchemy.ext.declarative import declarative_base\n",
    "from sqlalchemy.orm import relationship\n",
    "from sqlalchemy import create_engine\n",
    "\n",
    "Base = declarative_base()\n",
    "engine = create_engine('postgresql://mahtin@localhost:5432/claragallery', echo=False)\n",
    "engine.connect()"
   ]
  },
  {
   "cell_type": "markdown",
   "metadata": {},
   "source": [
    "## define tables and create them in PostgreSQL"
   ]
  },
  {
   "cell_type": "code",
   "execution_count": 4,
   "metadata": {
    "ExecuteTime": {
     "end_time": "2019-07-15T21:10:24.785861Z",
     "start_time": "2019-07-15T21:10:24.742954Z"
    }
   },
   "outputs": [],
   "source": [
    "import os\n",
    "# absolute path to the picture database\n",
    "pic_db_path = os.path.join(os.environ['HOME'], 'Dropbox/Icke/Bilder')\n",
    "# folder in db\n",
    "picture_folder = 'ClaraPix'\n",
    "    \n",
    "image_keywords_association = Table('association', Base.metadata, \n",
    "                                   Column('img_id', Integer, ForeignKey('images.id')),\n",
    "                                   Column('key_id', Integer, ForeignKey('keywords.id')))\n",
    "\n",
    "\n",
    "class Image(Base):\n",
    "    __tablename__ = 'images'\n",
    "    id = Column(Integer, primary_key=True)\n",
    "    title = Column(String(90))\n",
    "    path = Column(String(80), nullable=False)\n",
    "    date = Column(Date(), nullable=False)\n",
    "    date_assumed = Column(Boolean(), nullable=True)\n",
    "    note = Column(String(120))\n",
    "    helper = Column(String(80))\n",
    "    stars = Column(Integer())\n",
    "    \n",
    "    col_id = Column(Integer, ForeignKey('collections.id'))\n",
    "    collection = relationship(\"Collection\", back_populates='images')\n",
    "    \n",
    "    user_id = Column(Integer, ForeignKey('users.id'))\n",
    "    artist = relationship('User', back_populates='images')\n",
    "    \n",
    "    key_id = Column(Integer, ForeignKey('keywords.id'))\n",
    "    # here, backref is used to create an images field in the Keyword table\n",
    "    keywords = relationship('Keyword', secondary=image_keywords_association, backref='images')\n",
    "    \n",
    "    \n",
    "    def __repr__(self):\n",
    "        return f'<Image(\"{self.title}\" by {self.artist.name}, ~/{self.path})>'\n",
    "\n",
    "    \n",
    "class Collection(Base):\n",
    "    __tablename__ = 'collections'\n",
    "    id = Column(Integer, primary_key=True)\n",
    "    name = Column(String(80), nullable=False)\n",
    "    images = relationship('Image', back_populates='collection')\n",
    "\n",
    "    def __repr__(self):\n",
    "        return f\"<Collection(name:{self.name}, images:{len(self.images)})>\"\n",
    "\n",
    "class User(Base):\n",
    "    __tablename__ = 'users'\n",
    "    id = Column(Integer, primary_key=True)\n",
    "    name = Column(String(80), nullable=False)\n",
    "    types = Column(String(50))\n",
    "    age = Column(Integer)\n",
    "    images = relationship('Image', back_populates='artist')\n",
    "    \n",
    "    def __repr__(self):\n",
    "        return f\"<User(name:{self.name}, age:{self.age}, images:{len(self.images)})>\"\n",
    "    \n",
    "    \n",
    "class Keyword(Base):\n",
    "    __tablename__ = 'keywords'\n",
    "    id = Column(Integer, primary_key=True)\n",
    "    name = Column(String(50), nullable=False)\n",
    "    \n",
    "    def __repr__(self):\n",
    "        return f\"<Keyword(name={self.name}, images:{len(self.images)})>\"\n",
    "\n",
    "    \n",
    "Base.metadata.create_all(engine)"
   ]
  },
  {
   "cell_type": "markdown",
   "metadata": {},
   "source": [
    "### import table data to the database in a session"
   ]
  },
  {
   "cell_type": "code",
   "execution_count": 5,
   "metadata": {
    "ExecuteTime": {
     "end_time": "2019-07-15T21:10:27.645666Z",
     "start_time": "2019-07-15T21:10:27.641892Z"
    }
   },
   "outputs": [],
   "source": [
    "from sqlalchemy.orm import sessionmaker\n",
    "Base.metadata.bind = engine\n",
    "DBSession = sessionmaker(bind=engine)\n",
    "session = DBSession()"
   ]
  },
  {
   "cell_type": "code",
   "execution_count": 6,
   "metadata": {
    "ExecuteTime": {
     "end_time": "2019-07-15T21:10:39.662381Z",
     "start_time": "2019-07-15T21:10:39.641795Z"
    }
   },
   "outputs": [],
   "source": [
    "from datetime import date as dt\n",
    "title_pat = re.compile(r'^\\w')\n",
    "\n",
    "months = ['jan', 'feb', 'mär', 'apr', 'mai', 'jun', 'jul', 'aug', 'sep', 'okt', 'nov', 'dez']\n",
    "month_dict = {month[1]:month[0] + 1 for month in enumerate(months)}\n",
    "\n",
    "def str2date(string):\n",
    "    if pd.isnull(string) or string == '?':\n",
    "        return dt(2018, 1,1)\n",
    "    if '.' in string:\n",
    "        data = [int(num) for num in string.split('.')]\n",
    "        return dt(data[2], data[1], data[0])\n",
    "        \n",
    "    date = string.split(' ')\n",
    "    year = int(date[-1])\n",
    "    year = 2000 + year if (year < 2000) else year\n",
    "    month = date[0][:3].lower() if (len(date) - 1) else 'jan'\n",
    "    month = month_dict[month] if month in month_dict.keys() else 1\n",
    "    return dt(year, month, 1)\n",
    "\n",
    "def add2db(row):\n",
    "    '''\n",
    "    adds rows from the df to the database\n",
    "    '''\n",
    "    \n",
    "    # file and file check\n",
    "    file = f\"Clara{str(row['img # ']).zfill(4)}.jpg\"\n",
    "    # file path relative to database location\n",
    "    path = os.path.join(picture_folder, file)\n",
    "    abs_file = os.path.join(pic_db_path, path)\n",
    "    if not os.path.isfile(abs_file):\n",
    "        return f'File {path} does not exist'\n",
    "    title = row['Title'] if row['Title'] == row['Title'] else 'ohne Titel'\n",
    "    if not title_pat.match(title):\n",
    "        title = 'ohne Titel'\n",
    "        \n",
    "\n",
    "    name = row['Wer'] if pd.notnull(row['Wer']) else 'Clara'\n",
    "    stars = 0\n",
    "    \n",
    "    # if user exists, use this user\n",
    "    artist = session.query(User).filter_by(name = name).first()\n",
    "    # else create new user/artist\n",
    "    if not artist:\n",
    "        artist = User(name=name, age=6)\n",
    "    \n",
    "    # check if image already exists in db\n",
    "    image = session.query(Image).filter_by(title=title).filter_by(path=path).first()\n",
    "    if image:\n",
    "        return f'Image {image.title} exists!'\n",
    "    # create image instance\n",
    "    image = Image(title=title, path=path, artist=artist, note=row['Note'], date=str2date(row['Datum']))\n",
    "\n",
    "    if pd.notnull(row['Set']):\n",
    "        collection = session.query(Collection).filter_by(name = row['Set']).first()\n",
    "        if not collection:\n",
    "            collection = Collection(name=row['Set'])\n",
    "        image.collection = collection\n",
    "        \n",
    "    def get_key(key):\n",
    "        keyword = session.query(Keyword).filter_by(name = key.strip()).first()\n",
    "        keyword = keyword if keyword else Keyword(name=key.strip())\n",
    "        return keyword\n",
    "    \n",
    "    if pd.notnull(row['Key']):\n",
    "        image.keywords = [get_key(key) for key in row['Key'].split(',')]\n",
    "    if pd.notnull(row['Hilfe von']):\n",
    "        image.helper = row['Hilfe von']\n",
    "    date_assumed = row['Datum unbekannt'] in ['x',''] or (row['Datum'] in ['', '?'])\n",
    "    image.date_assumed = date_assumed\n",
    "    session.add(image)\n",
    "    return repr(image)"
   ]
  },
  {
   "cell_type": "code",
   "execution_count": 7,
   "metadata": {
    "ExecuteTime": {
     "end_time": "2019-07-15T21:10:42.094073Z",
     "start_time": "2019-07-15T21:10:41.242698Z"
    }
   },
   "outputs": [
    {
     "data": {
      "text/plain": [
       "0                                   Image Muster exists!\n",
       "1                                     Image Haus exists!\n",
       "2                                   Image Muster exists!\n",
       "3                                   Image Pythor exists!\n",
       "4                               Image Herzmuster exists!\n",
       "5                          Image Skizze Tänzerin exists!\n",
       "6                      Image Clara an der Straße exists!\n",
       "7                                   Image Muster exists!\n",
       "8                           Image Ninjago Truppe exists!\n",
       "9                          Image Schlangenmuster exists!\n",
       "10             Image Clara und Papa | Landschaft exists!\n",
       "11     Image Predator X wartet auf Plesiosaurier | Me...\n",
       "12                           Image Clara im Auto exists!\n",
       "13                                    Image Grün exists!\n",
       "14                Image Fröhlicher Schmetterling exists!\n",
       "15              Image Clara unter dem Regenbogen exists!\n",
       "16           Image Durchschlafen für Anna + Elsa exists!\n",
       "17                                   Image shift exists!\n",
       "18                                Image Planeten exists!\n",
       "19       Image Einhörner am Ende des Regenbogens exists!\n",
       "20                                   Image Clara exists!\n",
       "21                         Image Rapunzel feiert exists!\n",
       "22                   Image Der Goldene Schlüssel exists!\n",
       "23                              Image Dinge für  exists!\n",
       "24              Image Prinzessin auf Blumenwiese exists!\n",
       "                             ...                        \n",
       "414                        Image Schlangen-Vogel exists!\n",
       "415                         Image Dressur-Reiten exists!\n",
       "416                        Image König der Vögel exists!\n",
       "417               Image Clara reitet einen T-Rex exists!\n",
       "418                      Image Wunschzettel 2018 exists!\n",
       "419                              Image Dinotrux1 exists!\n",
       "420                                   Image Lana exists!\n",
       "421                 Image Einhorn und Pteranodon exists!\n",
       "422               Image Clara reitet einen Besen exists!\n",
       "423           File ClaraPix/Clara0430.jpg does not exist\n",
       "424           File ClaraPix/Clara0431.jpg does not exist\n",
       "425           File ClaraPix/Clara0432.jpg does not exist\n",
       "426           File ClaraPix/Clara0433.jpg does not exist\n",
       "427           File ClaraPix/Clara0434.jpg does not exist\n",
       "428           File ClaraPix/Clara0435.jpg does not exist\n",
       "429           File ClaraPix/Clara0436.jpg does not exist\n",
       "430           File ClaraPix/Clara0437.jpg does not exist\n",
       "431           File ClaraPix/Clara0438.jpg does not exist\n",
       "432           File ClaraPix/Clara0439.jpg does not exist\n",
       "433           File ClaraPix/Clara0440.jpg does not exist\n",
       "434           File ClaraPix/Clara0441.jpg does not exist\n",
       "435           File ClaraPix/Clara0442.jpg does not exist\n",
       "436           File ClaraPix/Clara0443.jpg does not exist\n",
       "437           File ClaraPix/Clara0444.jpg does not exist\n",
       "438           File ClaraPix/Clara0445.jpg does not exist\n",
       "Length: 439, dtype: object"
      ]
     },
     "execution_count": 7,
     "metadata": {},
     "output_type": "execute_result"
    }
   ],
   "source": [
    "session.rollback()\n",
    "pic_table.apply(add2db, axis=1)\n",
    "session.commit()"
   ]
  },
  {
   "cell_type": "code",
   "execution_count": 9,
   "metadata": {
    "ExecuteTime": {
     "end_time": "2019-07-15T21:10:59.467550Z",
     "start_time": "2019-07-15T21:10:59.461740Z"
    }
   },
   "outputs": [
    {
     "data": {
      "text/plain": [
       "<Image(\"Krikelkrakel\" by Clara, ~/ClaraPix/Clara0338.jpg)>"
      ]
     },
     "execution_count": 9,
     "metadata": {},
     "output_type": "execute_result"
    }
   ],
   "source": [
    "session.query(Image).filter_by(id = 332).first()"
   ]
  },
  {
   "cell_type": "markdown",
   "metadata": {},
   "source": [
    "### filter by keyword"
   ]
  },
  {
   "cell_type": "code",
   "execution_count": 27,
   "metadata": {
    "ExecuteTime": {
     "end_time": "2019-07-16T12:48:40.991618Z",
     "start_time": "2019-07-16T12:48:40.977873Z"
    }
   },
   "outputs": [
    {
     "name": "stdout",
     "output_type": "stream",
     "text": [
      "Muster  :  [<Keyword(name=Kunst, images:23)>]\n",
      "Herzmuster  :  [<Keyword(name=Kunst, images:23)>, <Keyword(name=Herz, images:4)>]\n",
      "Muster  :  [<Keyword(name=Kunst, images:23)>]\n",
      "Schlangenmuster  :  [<Keyword(name=Kunst, images:23)>, <Keyword(name=Schlangen, images:1)>]\n",
      "Grün  :  [<Keyword(name=Kunst, images:23)>]\n",
      "Ein Herz für Emmi  :  [<Keyword(name=Kunst, images:23)>, <Keyword(name=Herz, images:4)>]\n",
      "Muster  :  [<Keyword(name=Kunst, images:23)>]\n",
      "Herzmuster  :  [<Keyword(name=Kunst, images:23)>, <Keyword(name=Herz, images:4)>]\n",
      "Labyrinth  :  [<Keyword(name=Kunst, images:23)>, <Keyword(name=Muster, images:9)>]\n",
      "Dreiecke  :  [<Keyword(name=Kunst, images:23)>, <Keyword(name=Muster, images:9)>]\n",
      "Prinzessin  :  [<Keyword(name=Kunst, images:23)>]\n",
      "Lustige Buchstaben  :  [<Keyword(name=Kunst, images:23)>]\n",
      "Eiskönigin  :  [<Keyword(name=Kunst, images:23)>]\n",
      "Bunte Farben  :  [<Keyword(name=Kunst, images:23)>]\n",
      "Diamant-Berg  :  [<Keyword(name=Kunst, images:23)>]\n",
      "Pink Amulett  :  [<Keyword(name=Kunst, images:23)>]\n",
      "Diamant  :  [<Keyword(name=Kunst, images:23)>]\n",
      "Löwen-Mosaik  :  [<Keyword(name=Kunst, images:23)>]\n",
      "Krikelkrakel  :  [<Keyword(name=Kunst, images:23)>]\n",
      "Dreiecks-Diamant  :  [<Keyword(name=Kunst, images:23)>]\n",
      "Dreiecks-Gesicht  :  [<Keyword(name=Kunst, images:23)>]\n",
      "buntes Muster  :  [<Keyword(name=Kunst, images:23)>]\n",
      "Dreiecks-Muster  :  [<Keyword(name=Kunst, images:23)>]\n"
     ]
    }
   ],
   "source": [
    "keyword = session.query(Keyword).filter_by(name='Kunst').first()\n",
    "for image in keyword.images:\n",
    "    print(image.title, ' : ', image.keywords)"
   ]
  },
  {
   "cell_type": "code",
   "execution_count": 28,
   "metadata": {
    "ExecuteTime": {
     "end_time": "2019-07-16T12:48:42.425013Z",
     "start_time": "2019-07-16T12:48:42.410345Z"
    }
   },
   "outputs": [
    {
     "data": {
      "text/plain": [
       "{<Image(\"Ammonit\" by Clara, ~/ClaraPix/Clara0388.jpg)>,\n",
       " <Image(\"Ankylo-Stein-Dino\" by Clara, ~/ClaraPix/Clara0303.jpg)>,\n",
       " <Image(\"Archeopteryx\" by Clara, ~/ClaraPix/Clara0250.jpg)>,\n",
       " <Image(\"Argentinosaurier vor Vulkan\" by Clara, ~/ClaraPix/Clara0363.jpg)>,\n",
       " <Image(\"Baum mit Tieren\" by Clara, ~/ClaraPix/Clara0376.jpg)>,\n",
       " <Image(\"Baum-Dino\" by Clara, ~/ClaraPix/Clara0305.jpg)>,\n",
       " <Image(\"Blitzdino\" by Clara, ~/ClaraPix/Clara0301.jpg)>,\n",
       " <Image(\"Bunter Dino\" by Clara, ~/ClaraPix/Clara0304.jpg)>,\n",
       " <Image(\"Böser Skorpion\" by Clara, ~/ClaraPix/Clara0136.jpg)>,\n",
       " <Image(\"Clara mit Papa\" by Clara, ~/ClaraPix/Clara0258.jpg)>,\n",
       " <Image(\"Clara reitet auf Pteranodon\" by Clara, ~/ClaraPix/Clara0400.jpg)>,\n",
       " <Image(\"Clara reitet einen T-Rex\" by Clara, ~/ClaraPix/Clara0424.jpg)>,\n",
       " <Image(\"Das Meer\" by Clara, ~/ClaraPix/Clara0107.jpg)>,\n",
       " <Image(\"Diamant-Dino\" by Clara, ~/ClaraPix/Clara0302.jpg)>,\n",
       " <Image(\"Dicke Spinne\" by Clara, ~/ClaraPix/Clara0130.jpg)>,\n",
       " <Image(\"Dino mit Kamm\" by Clara, ~/ClaraPix/Clara0298.jpg)>,\n",
       " <Image(\"Einhorn und Pteranodon\" by Clara, ~/ClaraPix/Clara0428.jpg)>,\n",
       " <Image(\"Elefant mit Palmen\" by Clara, ~/ClaraPix/Clara0325.jpg)>,\n",
       " <Image(\"Elefant\" by Clara, ~/ClaraPix/Clara0408.jpg)>,\n",
       " <Image(\"Großer Skorpion 1\" by Clara, ~/ClaraPix/Clara0133.jpg)>,\n",
       " <Image(\"Großer Skorpion 2\" by Clara, ~/ClaraPix/Clara0134.jpg)>,\n",
       " <Image(\"Großer Vogel\" by Clara, ~/ClaraPix/Clara0263.jpg)>,\n",
       " <Image(\"Grüne dicke Spinne\" by Clara, ~/ClaraPix/Clara0131.jpg)>,\n",
       " <Image(\"Hund\" by Clara, ~/ClaraPix/Clara0324.jpg)>,\n",
       " <Image(\"Hunde und Katzen im Wald\" by Clara, ~/ClaraPix/Clara0358.jpg)>,\n",
       " <Image(\"Im Wald 1\" by Clara, ~/ClaraPix/Clara0031.jpg)>,\n",
       " <Image(\"Im Wald 2\" by Clara, ~/ClaraPix/Clara0032.jpg)>,\n",
       " <Image(\"Kreuzspinne im Netz\" by Clara, ~/ClaraPix/Clara0348.jpg)>,\n",
       " <Image(\"Kreuzspinne\" by Clara, ~/ClaraPix/Clara0132.jpg)>,\n",
       " <Image(\"Kreuzspinne\" by Clara, ~/ClaraPix/Clara0138.jpg)>,\n",
       " <Image(\"König der Dinos\" by Clara, ~/ClaraPix/Clara0355.jpg)>,\n",
       " <Image(\"König der Vögel\" by Clara, ~/ClaraPix/Clara0423.jpg)>,\n",
       " <Image(\"Löwe auf Felsen\" by Clara, ~/ClaraPix/Clara0289.jpg)>,\n",
       " <Image(\"Löwe\" by Clara, ~/ClaraPix/Clara0072.jpg)>,\n",
       " <Image(\"Löwe\" by Clara, ~/ClaraPix/Clara0315.jpg)>,\n",
       " <Image(\"Löwe\" by Clara, ~/ClaraPix/Clara0383.jpg)>,\n",
       " <Image(\"Löwen-Familie\" by Clara, ~/ClaraPix/Clara0272.jpg)>,\n",
       " <Image(\"Monster-Skorpion\" by Clara, ~/ClaraPix/Clara0083.jpg)>,\n",
       " <Image(\"Papagei\" by Clara, ~/ClaraPix/Clara0323.jpg)>,\n",
       " <Image(\"Pferd bei Nacht\" by Clara, ~/ClaraPix/Clara0340.jpg)>,\n",
       " <Image(\"Pferd im Gruselwald\" by Clara, ~/ClaraPix/Clara0290.jpg)>,\n",
       " <Image(\"Pferd\" by Clara, ~/ClaraPix/Clara0357.jpg)>,\n",
       " <Image(\"Pia auf Pteranodon\" by Clara, ~/ClaraPix/Clara0404.jpg)>,\n",
       " <Image(\"Pinguin, Tiger, Löwe & Giraffe\" by Clara, ~/ClaraPix/Clara0171.jpg)>,\n",
       " <Image(\"Quetzalcoatlus\" by Clara, ~/ClaraPix/Clara0406.jpg)>,\n",
       " <Image(\"Regenbogenspinne\" by Clara, ~/ClaraPix/Clara0135.jpg)>,\n",
       " <Image(\"Reh auf der Wiese\" by Clara, ~/ClaraPix/Clara0293.jpg)>,\n",
       " <Image(\"Seite 47 - T-Rex unter Palmen\" by Clara, ~/ClaraPix/Clara0238.jpg)>,\n",
       " <Image(\"Skorpion\" by Clara, ~/ClaraPix/Clara0137.jpg)>,\n",
       " <Image(\"Spinne\" by Clara, ~/ClaraPix/Clara0140.jpg)>,\n",
       " <Image(\"Spinne\" by Clara, ~/ClaraPix/Clara0141.jpg)>,\n",
       " <Image(\"Spinosaurier\" by Clara, ~/ClaraPix/Clara0245.jpg)>,\n",
       " <Image(\"Stachel-Dino\" by Clara, ~/ClaraPix/Clara0306.jpg)>,\n",
       " <Image(\"Stego im Winter\" by Clara, ~/ClaraPix/Clara0415.jpg)>,\n",
       " <Image(\"Steindino\" by Clara, ~/ClaraPix/Clara0299.jpg)>,\n",
       " <Image(\"T-Rex\" by Clara, ~/ClaraPix/Clara0375.jpg)>,\n",
       " <Image(\"Tiere auf Baum\" by Clara, ~/ClaraPix/Clara0030.jpg)>,\n",
       " <Image(\"Tiere auf Baum\" by Clara, ~/ClaraPix/Clara0371.jpg)>,\n",
       " <Image(\"Tiere\" by Clara, ~/ClaraPix/Clara0390.jpg)>,\n",
       " <Image(\"Tiere\" by Clara, ~/ClaraPix/Clara0391.jpg)>,\n",
       " <Image(\"Triceratops mit Wäscheleine\" by Clara, ~/ClaraPix/Clara0384.jpg)>,\n",
       " <Image(\"Triceratops\" by Clara, ~/ClaraPix/Clara0256.jpg)>,\n",
       " <Image(\"Triceratops\" by Clara, ~/ClaraPix/Clara0405.jpg)>,\n",
       " <Image(\"Unter Wasser\" by Clara, ~/ClaraPix/Clara0248.jpg)>,\n",
       " <Image(\"Viele Tiere auf der Wiese\" by Clara, ~/ClaraPix/Clara0359.jpg)>,\n",
       " <Image(\"Vögel\" by Clara, ~/ClaraPix/Clara0241.jpg)>,\n",
       " <Image(\"Wasserdino\" by Clara, ~/ClaraPix/Clara0300.jpg)>,\n",
       " <Image(\"Wiese mit Kuh und Hase\" by Clara, ~/ClaraPix/Clara0322.jpg)>,\n",
       " <Image(\"grüner Theropode\" by Clara, ~/ClaraPix/Clara0314.jpg)>}"
      ]
     },
     "execution_count": 28,
     "metadata": {},
     "output_type": "execute_result"
    }
   ],
   "source": [
    "keyset = ['Urzeit', 'Dinos', 'Tiere']\n",
    "image_set = set()\n",
    "for key in keyset:\n",
    "    keyword = session.query(Keyword).filter_by(name=key).first()\n",
    "    image_set.update(keyword.images)\n",
    "image_set"
   ]
  },
  {
   "cell_type": "code",
   "execution_count": 24,
   "metadata": {
    "ExecuteTime": {
     "end_time": "2019-07-16T12:47:09.396772Z",
     "start_time": "2019-07-16T12:47:09.380285Z"
    }
   },
   "outputs": [
    {
     "ename": "InvalidRequestError",
     "evalue": "Entity '<class '__main__.Image'>' has no property 'name'",
     "output_type": "error",
     "traceback": [
      "\u001b[0;31m---------------------------------------------------------------------------\u001b[0m",
      "\u001b[0;31mAttributeError\u001b[0m                            Traceback (most recent call last)",
      "\u001b[0;32m~/miniconda/envs/clara-env/lib/python3.7/site-packages/sqlalchemy/orm/base.py\u001b[0m in \u001b[0;36m_entity_descriptor\u001b[0;34m(entity, key)\u001b[0m\n\u001b[1;32m    398\u001b[0m     \u001b[0;32mtry\u001b[0m\u001b[0;34m:\u001b[0m\u001b[0;34m\u001b[0m\u001b[0;34m\u001b[0m\u001b[0m\n\u001b[0;32m--> 399\u001b[0;31m         \u001b[0;32mreturn\u001b[0m \u001b[0mgetattr\u001b[0m\u001b[0;34m(\u001b[0m\u001b[0mentity\u001b[0m\u001b[0;34m,\u001b[0m \u001b[0mkey\u001b[0m\u001b[0;34m)\u001b[0m\u001b[0;34m\u001b[0m\u001b[0;34m\u001b[0m\u001b[0m\n\u001b[0m\u001b[1;32m    400\u001b[0m     \u001b[0;32mexcept\u001b[0m \u001b[0mAttributeError\u001b[0m\u001b[0;34m:\u001b[0m\u001b[0;34m\u001b[0m\u001b[0;34m\u001b[0m\u001b[0m\n",
      "\u001b[0;31mAttributeError\u001b[0m: type object 'Image' has no attribute 'name'",
      "\nDuring handling of the above exception, another exception occurred:\n",
      "\u001b[0;31mInvalidRequestError\u001b[0m                       Traceback (most recent call last)",
      "\u001b[0;32m<ipython-input-24-2f5ce4ee2ed9>\u001b[0m in \u001b[0;36m<module>\u001b[0;34m\u001b[0m\n\u001b[0;32m----> 1\u001b[0;31m \u001b[0msession\u001b[0m\u001b[0;34m.\u001b[0m\u001b[0mquery\u001b[0m\u001b[0;34m(\u001b[0m\u001b[0mKeyword\u001b[0m\u001b[0;34m.\u001b[0m\u001b[0mimages\u001b[0m\u001b[0;34m)\u001b[0m\u001b[0;34m.\u001b[0m\u001b[0mjoin\u001b[0m\u001b[0;34m(\u001b[0m\u001b[0mImage\u001b[0m\u001b[0;34m)\u001b[0m\u001b[0;34m.\u001b[0m\u001b[0mfilter_by\u001b[0m\u001b[0;34m(\u001b[0m\u001b[0mname\u001b[0m \u001b[0;34m=\u001b[0m \u001b[0mkey\u001b[0m\u001b[0;34m)\u001b[0m\u001b[0;34m.\u001b[0m\u001b[0mall\u001b[0m\u001b[0;34m(\u001b[0m\u001b[0;34m)\u001b[0m\u001b[0;34m\u001b[0m\u001b[0;34m\u001b[0m\u001b[0m\n\u001b[0m",
      "\u001b[0;32m~/miniconda/envs/clara-env/lib/python3.7/site-packages/sqlalchemy/orm/query.py\u001b[0m in \u001b[0;36mfilter_by\u001b[0;34m(self, **kwargs)\u001b[0m\n\u001b[1;32m   1794\u001b[0m         clauses = [\n\u001b[1;32m   1795\u001b[0m             \u001b[0m_entity_descriptor\u001b[0m\u001b[0;34m(\u001b[0m\u001b[0mself\u001b[0m\u001b[0;34m.\u001b[0m\u001b[0m_joinpoint_zero\u001b[0m\u001b[0;34m(\u001b[0m\u001b[0;34m)\u001b[0m\u001b[0;34m,\u001b[0m \u001b[0mkey\u001b[0m\u001b[0;34m)\u001b[0m \u001b[0;34m==\u001b[0m \u001b[0mvalue\u001b[0m\u001b[0;34m\u001b[0m\u001b[0;34m\u001b[0m\u001b[0m\n\u001b[0;32m-> 1796\u001b[0;31m             \u001b[0;32mfor\u001b[0m \u001b[0mkey\u001b[0m\u001b[0;34m,\u001b[0m \u001b[0mvalue\u001b[0m \u001b[0;32min\u001b[0m \u001b[0mkwargs\u001b[0m\u001b[0;34m.\u001b[0m\u001b[0mitems\u001b[0m\u001b[0;34m(\u001b[0m\u001b[0;34m)\u001b[0m\u001b[0;34m\u001b[0m\u001b[0;34m\u001b[0m\u001b[0m\n\u001b[0m\u001b[1;32m   1797\u001b[0m         ]\n\u001b[1;32m   1798\u001b[0m         \u001b[0;32mreturn\u001b[0m \u001b[0mself\u001b[0m\u001b[0;34m.\u001b[0m\u001b[0mfilter\u001b[0m\u001b[0;34m(\u001b[0m\u001b[0;34m*\u001b[0m\u001b[0mclauses\u001b[0m\u001b[0;34m)\u001b[0m\u001b[0;34m\u001b[0m\u001b[0;34m\u001b[0m\u001b[0m\n",
      "\u001b[0;32m~/miniconda/envs/clara-env/lib/python3.7/site-packages/sqlalchemy/orm/query.py\u001b[0m in \u001b[0;36m<listcomp>\u001b[0;34m(.0)\u001b[0m\n\u001b[1;32m   1794\u001b[0m         clauses = [\n\u001b[1;32m   1795\u001b[0m             \u001b[0m_entity_descriptor\u001b[0m\u001b[0;34m(\u001b[0m\u001b[0mself\u001b[0m\u001b[0;34m.\u001b[0m\u001b[0m_joinpoint_zero\u001b[0m\u001b[0;34m(\u001b[0m\u001b[0;34m)\u001b[0m\u001b[0;34m,\u001b[0m \u001b[0mkey\u001b[0m\u001b[0;34m)\u001b[0m \u001b[0;34m==\u001b[0m \u001b[0mvalue\u001b[0m\u001b[0;34m\u001b[0m\u001b[0;34m\u001b[0m\u001b[0m\n\u001b[0;32m-> 1796\u001b[0;31m             \u001b[0;32mfor\u001b[0m \u001b[0mkey\u001b[0m\u001b[0;34m,\u001b[0m \u001b[0mvalue\u001b[0m \u001b[0;32min\u001b[0m \u001b[0mkwargs\u001b[0m\u001b[0;34m.\u001b[0m\u001b[0mitems\u001b[0m\u001b[0;34m(\u001b[0m\u001b[0;34m)\u001b[0m\u001b[0;34m\u001b[0m\u001b[0;34m\u001b[0m\u001b[0m\n\u001b[0m\u001b[1;32m   1797\u001b[0m         ]\n\u001b[1;32m   1798\u001b[0m         \u001b[0;32mreturn\u001b[0m \u001b[0mself\u001b[0m\u001b[0;34m.\u001b[0m\u001b[0mfilter\u001b[0m\u001b[0;34m(\u001b[0m\u001b[0;34m*\u001b[0m\u001b[0mclauses\u001b[0m\u001b[0;34m)\u001b[0m\u001b[0;34m\u001b[0m\u001b[0;34m\u001b[0m\u001b[0m\n",
      "\u001b[0;32m~/miniconda/envs/clara-env/lib/python3.7/site-packages/sqlalchemy/orm/base.py\u001b[0m in \u001b[0;36m_entity_descriptor\u001b[0;34m(entity, key)\u001b[0m\n\u001b[1;32m    400\u001b[0m     \u001b[0;32mexcept\u001b[0m \u001b[0mAttributeError\u001b[0m\u001b[0;34m:\u001b[0m\u001b[0;34m\u001b[0m\u001b[0;34m\u001b[0m\u001b[0m\n\u001b[1;32m    401\u001b[0m         raise sa_exc.InvalidRequestError(\n\u001b[0;32m--> 402\u001b[0;31m             \u001b[0;34m\"Entity '%s' has no property '%s'\"\u001b[0m \u001b[0;34m%\u001b[0m \u001b[0;34m(\u001b[0m\u001b[0mdescription\u001b[0m\u001b[0;34m,\u001b[0m \u001b[0mkey\u001b[0m\u001b[0;34m)\u001b[0m\u001b[0;34m\u001b[0m\u001b[0;34m\u001b[0m\u001b[0m\n\u001b[0m\u001b[1;32m    403\u001b[0m         )\n\u001b[1;32m    404\u001b[0m \u001b[0;34m\u001b[0m\u001b[0m\n",
      "\u001b[0;31mInvalidRequestError\u001b[0m: Entity '<class '__main__.Image'>' has no property 'name'"
     ]
    }
   ],
   "source": [
    "session.query(Keyword.images).join(Image).filter_by(name = key).all()"
   ]
  },
  {
   "cell_type": "code",
   "execution_count": null,
   "metadata": {
    "ExecuteTime": {
     "end_time": "2019-07-16T12:47:09.398574Z",
     "start_time": "2019-07-16T12:47:09.383Z"
    }
   },
   "outputs": [],
   "source": [
    "session.query(Image).filter_by(title = 'Haus').first().keywords"
   ]
  },
  {
   "cell_type": "code",
   "execution_count": null,
   "metadata": {},
   "outputs": [],
   "source": []
  }
 ],
 "metadata": {
  "kernelspec": {
   "display_name": "Python 3",
   "language": "python",
   "name": "python3"
  },
  "language_info": {
   "codemirror_mode": {
    "name": "ipython",
    "version": 3
   },
   "file_extension": ".py",
   "mimetype": "text/x-python",
   "name": "python",
   "nbconvert_exporter": "python",
   "pygments_lexer": "ipython3",
   "version": "3.7.3"
  },
  "varInspector": {
   "cols": {
    "lenName": 16,
    "lenType": 16,
    "lenVar": 40
   },
   "kernels_config": {
    "python": {
     "delete_cmd_postfix": "",
     "delete_cmd_prefix": "del ",
     "library": "var_list.py",
     "varRefreshCmd": "print(var_dic_list())"
    },
    "r": {
     "delete_cmd_postfix": ") ",
     "delete_cmd_prefix": "rm(",
     "library": "var_list.r",
     "varRefreshCmd": "cat(var_dic_list()) "
    }
   },
   "types_to_exclude": [
    "module",
    "function",
    "builtin_function_or_method",
    "instance",
    "_Feature"
   ],
   "window_display": false
  }
 },
 "nbformat": 4,
 "nbformat_minor": 2
}
